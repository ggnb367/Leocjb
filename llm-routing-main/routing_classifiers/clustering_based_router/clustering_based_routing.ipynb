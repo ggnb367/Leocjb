{
 "cells": [
  {
   "cell_type": "code",
   "execution_count": 2,
   "metadata": {},
   "outputs": [],
   "source": [
    "import warnings\n",
    "warnings.filterwarnings(\"ignore\")\n",
    "\n",
    "import os\n",
    "import re\n",
    "import json\n",
    "import pickle\n",
    "import textstat\n",
    "import numpy as np\n",
    "import pandas as pd\n",
    "from glob import glob\n",
    "from tqdm import tqdm\n",
    "from pprint import pprint\n",
    "import plotly.express as px\n",
    "from scipy.stats import spearmanr\n",
    "import torch\n",
    "from transformers import AutoTokenizer, AutoModel\n",
    "from sentence_splitter import SentenceSplitter\n",
    "from collections import Counter"
   ]
  },
  {
   "cell_type": "code",
   "execution_count": 20,
   "metadata": {},
   "outputs": [
    {
     "data": {
      "text/html": [
       "<div>\n",
       "<style scoped>\n",
       "    .dataframe tbody tr th:only-of-type {\n",
       "        vertical-align: middle;\n",
       "    }\n",
       "\n",
       "    .dataframe tbody tr th {\n",
       "        vertical-align: top;\n",
       "    }\n",
       "\n",
       "    .dataframe thead th {\n",
       "        text-align: right;\n",
       "    }\n",
       "</style>\n",
       "<table border=\"1\" class=\"dataframe\">\n",
       "  <thead>\n",
       "    <tr style=\"text-align: right;\">\n",
       "      <th></th>\n",
       "      <th>question</th>\n",
       "      <th>gold_answer</th>\n",
       "      <th>split</th>\n",
       "      <th>sr_falcon-7b</th>\n",
       "      <th>sr_gemma-7b</th>\n",
       "      <th>sr_llama2-7b-lm</th>\n",
       "      <th>sr_metamath-7b</th>\n",
       "      <th>sr_mistral-7b-lm</th>\n",
       "      <th>sr_olmo-7b</th>\n",
       "      <th>sr_opt-6.7b</th>\n",
       "      <th>...</th>\n",
       "      <th>maj_gemma-7b-it</th>\n",
       "      <th>maj_llama2-13b-chat</th>\n",
       "      <th>maj_mistral-7b-inst</th>\n",
       "      <th>auto_answers_gemma-7b-it</th>\n",
       "      <th>auto_answers_llama2-13b-chat</th>\n",
       "      <th>auto_answers_mistral-7b-inst</th>\n",
       "      <th>rl_gemma-7b</th>\n",
       "      <th>rl_mistral-7b-lm</th>\n",
       "      <th>rl_llama2-13b-chat</th>\n",
       "      <th>rl_gemma-7b-it</th>\n",
       "    </tr>\n",
       "  </thead>\n",
       "  <tbody>\n",
       "    <tr>\n",
       "      <th>0</th>\n",
       "      <td>Natalia sold clips to 48 of her friends in Apr...</td>\n",
       "      <td>72.0</td>\n",
       "      <td>train</td>\n",
       "      <td>0.8</td>\n",
       "      <td>0.9</td>\n",
       "      <td>0.8</td>\n",
       "      <td>1.0</td>\n",
       "      <td>1.0</td>\n",
       "      <td>0.8</td>\n",
       "      <td>0.1</td>\n",
       "      <td>...</td>\n",
       "      <td>1.0</td>\n",
       "      <td>1.0</td>\n",
       "      <td>1.0</td>\n",
       "      <td>[72.0, 24.0, 72.0, 72.0, 72.0, 'INVALID', 72.0...</td>\n",
       "      <td>[72.0, 72.0, 72.0, 72.0, 720.0, 72.0, 24.0, 72...</td>\n",
       "      <td>[96.0, 24.0, 72.0, 72.0, 72.0, 72.0, 72.0, 72....</td>\n",
       "      <td>0.142857</td>\n",
       "      <td>0.142857</td>\n",
       "      <td>0.142857</td>\n",
       "      <td>0.142857</td>\n",
       "    </tr>\n",
       "    <tr>\n",
       "      <th>1</th>\n",
       "      <td>Weng earns $12 an hour for babysitting. Yester...</td>\n",
       "      <td>10.0</td>\n",
       "      <td>train</td>\n",
       "      <td>0.0</td>\n",
       "      <td>0.8</td>\n",
       "      <td>0.1</td>\n",
       "      <td>1.0</td>\n",
       "      <td>0.5</td>\n",
       "      <td>0.1</td>\n",
       "      <td>0.0</td>\n",
       "      <td>...</td>\n",
       "      <td>0.0</td>\n",
       "      <td>0.0</td>\n",
       "      <td>1.0</td>\n",
       "      <td>[6.0, 6.0, 6.0, 6.0, 6.0, 'INVALID', 'INVALID'...</td>\n",
       "      <td>[60.0, 9.96, 60.0, 60.0, 60.0, 60.0, 'INVALID'...</td>\n",
       "      <td>[9.99992, 10.0, 12.0, 10.4, 10.0, 9.996, 12.0,...</td>\n",
       "      <td>0.428571</td>\n",
       "      <td>0.428571</td>\n",
       "      <td>0.047619</td>\n",
       "      <td>0.047619</td>\n",
       "    </tr>\n",
       "    <tr>\n",
       "      <th>2</th>\n",
       "      <td>Betty is saving money for a new wallet which c...</td>\n",
       "      <td>5.0</td>\n",
       "      <td>train</td>\n",
       "      <td>0.1</td>\n",
       "      <td>0.5</td>\n",
       "      <td>0.1</td>\n",
       "      <td>1.0</td>\n",
       "      <td>0.2</td>\n",
       "      <td>0.0</td>\n",
       "      <td>0.1</td>\n",
       "      <td>...</td>\n",
       "      <td>0.0</td>\n",
       "      <td>1.0</td>\n",
       "      <td>1.0</td>\n",
       "      <td>[-5.0, 30.0, 'INVALID', 45.0, 30.0, 35.0, 35.0...</td>\n",
       "      <td>[45.0, 45.0, 45.0, 5.0, 55.0, 5.0, 5.0, 55.0, ...</td>\n",
       "      <td>[5.0, 75.0, 5.0, 105.0, 55.0, 5.0, 92.5, 25.0,...</td>\n",
       "      <td>0.428571</td>\n",
       "      <td>0.047619</td>\n",
       "      <td>0.428571</td>\n",
       "      <td>0.047619</td>\n",
       "    </tr>\n",
       "    <tr>\n",
       "      <th>3</th>\n",
       "      <td>Julie is reading a 120-page book. Yesterday, s...</td>\n",
       "      <td>42.0</td>\n",
       "      <td>train</td>\n",
       "      <td>0.0</td>\n",
       "      <td>0.6</td>\n",
       "      <td>0.0</td>\n",
       "      <td>1.0</td>\n",
       "      <td>0.0</td>\n",
       "      <td>0.0</td>\n",
       "      <td>0.0</td>\n",
       "      <td>...</td>\n",
       "      <td>1.0</td>\n",
       "      <td>0.0</td>\n",
       "      <td>1.0</td>\n",
       "      <td>[72.0, 84.0, 72.0, 42.0, 48.0, 84.0, 24.0, 42....</td>\n",
       "      <td>[60.0, 64.0, 60.0, 44.0, 96.0, 84.0, 42.0, 96....</td>\n",
       "      <td>[42.0, 72.0, 42.0, 54.0, 12.0, 60.0, 24.0, 'IN...</td>\n",
       "      <td>0.428571</td>\n",
       "      <td>0.047619</td>\n",
       "      <td>0.047619</td>\n",
       "      <td>0.428571</td>\n",
       "    </tr>\n",
       "    <tr>\n",
       "      <th>4</th>\n",
       "      <td>James writes a 3-page letter to 2 different fr...</td>\n",
       "      <td>624.0</td>\n",
       "      <td>train</td>\n",
       "      <td>0.0</td>\n",
       "      <td>0.1</td>\n",
       "      <td>0.1</td>\n",
       "      <td>1.0</td>\n",
       "      <td>0.1</td>\n",
       "      <td>0.0</td>\n",
       "      <td>0.0</td>\n",
       "      <td>...</td>\n",
       "      <td>0.0</td>\n",
       "      <td>0.0</td>\n",
       "      <td>0.0</td>\n",
       "      <td>[208.0, 3.0, 104.0, 104.0, 'INVALID', 156.0, 1...</td>\n",
       "      <td>[312.0, 312.0, 312.0, 312.0, 624.0, 312.0, 208...</td>\n",
       "      <td>[624.0, 312.0, 1296.0, 312.0, 312.0, 312.0, 62...</td>\n",
       "      <td>0.428571</td>\n",
       "      <td>0.428571</td>\n",
       "      <td>0.428571</td>\n",
       "      <td>0.428571</td>\n",
       "    </tr>\n",
       "    <tr>\n",
       "      <th>...</th>\n",
       "      <td>...</td>\n",
       "      <td>...</td>\n",
       "      <td>...</td>\n",
       "      <td>...</td>\n",
       "      <td>...</td>\n",
       "      <td>...</td>\n",
       "      <td>...</td>\n",
       "      <td>...</td>\n",
       "      <td>...</td>\n",
       "      <td>...</td>\n",
       "      <td>...</td>\n",
       "      <td>...</td>\n",
       "      <td>...</td>\n",
       "      <td>...</td>\n",
       "      <td>...</td>\n",
       "      <td>...</td>\n",
       "      <td>...</td>\n",
       "      <td>...</td>\n",
       "      <td>...</td>\n",
       "      <td>...</td>\n",
       "      <td>...</td>\n",
       "    </tr>\n",
       "    <tr>\n",
       "      <th>8787</th>\n",
       "      <td>John had a son James when he was 19.  James is...</td>\n",
       "      <td>8.0</td>\n",
       "      <td>test</td>\n",
       "      <td>0.0</td>\n",
       "      <td>0.0</td>\n",
       "      <td>0.0</td>\n",
       "      <td>0.3</td>\n",
       "      <td>0.0</td>\n",
       "      <td>0.0</td>\n",
       "      <td>0.0</td>\n",
       "      <td>...</td>\n",
       "      <td>0.0</td>\n",
       "      <td>0.0</td>\n",
       "      <td>0.0</td>\n",
       "      <td>['INVALID', 17.0, 14.0, 8.0, 'INVALID', 10.0, ...</td>\n",
       "      <td>[14.0, 11.0, 16.0, 35.0, 11.0, 8.0, 16.0, 15.0...</td>\n",
       "      <td>['INVALID', 6.0, 'INVALID', 38.0, 'INVALID', 3...</td>\n",
       "      <td>0.428571</td>\n",
       "      <td>0.428571</td>\n",
       "      <td>0.428571</td>\n",
       "      <td>0.428571</td>\n",
       "    </tr>\n",
       "    <tr>\n",
       "      <th>8788</th>\n",
       "      <td>There are some oranges in a basket. Ana spends...</td>\n",
       "      <td>5.0</td>\n",
       "      <td>test</td>\n",
       "      <td>0.0</td>\n",
       "      <td>0.6</td>\n",
       "      <td>0.0</td>\n",
       "      <td>0.9</td>\n",
       "      <td>0.6</td>\n",
       "      <td>0.0</td>\n",
       "      <td>0.0</td>\n",
       "      <td>...</td>\n",
       "      <td>0.0</td>\n",
       "      <td>1.0</td>\n",
       "      <td>1.0</td>\n",
       "      <td>['INVALID', 'INVALID', 5.0, 9.0, 2.0, 'INVALID...</td>\n",
       "      <td>[5.0, 9.0, 'INVALID', 5.0, 60.0, 0.0, 30.0, 1....</td>\n",
       "      <td>[5.0, 5.0, 'INVALID', 5.0, 5.0, 'INVALID', 5.0...</td>\n",
       "      <td>0.238095</td>\n",
       "      <td>0.238095</td>\n",
       "      <td>0.238095</td>\n",
       "      <td>0.000000</td>\n",
       "    </tr>\n",
       "    <tr>\n",
       "      <th>8789</th>\n",
       "      <td>Mark's car breaks down and he needs to get a n...</td>\n",
       "      <td>230.0</td>\n",
       "      <td>test</td>\n",
       "      <td>0.0</td>\n",
       "      <td>0.4</td>\n",
       "      <td>0.0</td>\n",
       "      <td>1.0</td>\n",
       "      <td>0.3</td>\n",
       "      <td>0.0</td>\n",
       "      <td>0.0</td>\n",
       "      <td>...</td>\n",
       "      <td>1.0</td>\n",
       "      <td>0.0</td>\n",
       "      <td>0.0</td>\n",
       "      <td>[230.0, 230.0, 230.0, 950.0, 230.0, 950.0, 950...</td>\n",
       "      <td>[230.0, 470.0, 230.0, 470.0, 470.0, 470.0, 960...</td>\n",
       "      <td>[230.0, 470.0, 80.0, 230.0, 230.0, 470.0, 470....</td>\n",
       "      <td>0.428571</td>\n",
       "      <td>0.047619</td>\n",
       "      <td>0.047619</td>\n",
       "      <td>0.428571</td>\n",
       "    </tr>\n",
       "    <tr>\n",
       "      <th>8790</th>\n",
       "      <td>Farmer Brown has 20 animals on his farm, all e...</td>\n",
       "      <td>5.0</td>\n",
       "      <td>test</td>\n",
       "      <td>0.0</td>\n",
       "      <td>0.1</td>\n",
       "      <td>0.0</td>\n",
       "      <td>0.3</td>\n",
       "      <td>0.0</td>\n",
       "      <td>0.1</td>\n",
       "      <td>0.2</td>\n",
       "      <td>...</td>\n",
       "      <td>0.0</td>\n",
       "      <td>0.0</td>\n",
       "      <td>1.0</td>\n",
       "      <td>[0.0, 'INVALID', 3.0, 'INVALID', 'INVALID', 10...</td>\n",
       "      <td>[30.0, 33.0, 23.0, 15.0, 35.0, 35.0, 30.0, 20....</td>\n",
       "      <td>[15.0, 10.0, 14.0, 5.0, 5.0, 5.0, 5.0, 5.0, 17...</td>\n",
       "      <td>0.428571</td>\n",
       "      <td>0.428571</td>\n",
       "      <td>0.428571</td>\n",
       "      <td>0.428571</td>\n",
       "    </tr>\n",
       "    <tr>\n",
       "      <th>8791</th>\n",
       "      <td>Henry and 3 of his friends order 7 pizzas for ...</td>\n",
       "      <td>14.0</td>\n",
       "      <td>test</td>\n",
       "      <td>0.0</td>\n",
       "      <td>1.0</td>\n",
       "      <td>0.5</td>\n",
       "      <td>1.0</td>\n",
       "      <td>0.8</td>\n",
       "      <td>0.0</td>\n",
       "      <td>0.0</td>\n",
       "      <td>...</td>\n",
       "      <td>1.0</td>\n",
       "      <td>1.0</td>\n",
       "      <td>1.0</td>\n",
       "      <td>[14.0, 14.0, 8.0, 14.0, 'INVALID', 14.0, 8.0, ...</td>\n",
       "      <td>[14.0, 14.0, 14.0, 14.0, 14.0, 14.0, 14.0, 14....</td>\n",
       "      <td>[14.0, 14.0, 11.2, 14.0, 56.0, 56.0, 14.0, 14....</td>\n",
       "      <td>0.142857</td>\n",
       "      <td>0.142857</td>\n",
       "      <td>0.142857</td>\n",
       "      <td>0.142857</td>\n",
       "    </tr>\n",
       "  </tbody>\n",
       "</table>\n",
       "<p>8792 rows × 37 columns</p>\n",
       "</div>"
      ],
      "text/plain": [
       "                                               question  gold_answer  split  \\\n",
       "0     Natalia sold clips to 48 of her friends in Apr...         72.0  train   \n",
       "1     Weng earns $12 an hour for babysitting. Yester...         10.0  train   \n",
       "2     Betty is saving money for a new wallet which c...          5.0  train   \n",
       "3     Julie is reading a 120-page book. Yesterday, s...         42.0  train   \n",
       "4     James writes a 3-page letter to 2 different fr...        624.0  train   \n",
       "...                                                 ...          ...    ...   \n",
       "8787  John had a son James when he was 19.  James is...          8.0   test   \n",
       "8788  There are some oranges in a basket. Ana spends...          5.0   test   \n",
       "8789  Mark's car breaks down and he needs to get a n...        230.0   test   \n",
       "8790  Farmer Brown has 20 animals on his farm, all e...          5.0   test   \n",
       "8791  Henry and 3 of his friends order 7 pizzas for ...         14.0   test   \n",
       "\n",
       "      sr_falcon-7b  sr_gemma-7b  sr_llama2-7b-lm  sr_metamath-7b  \\\n",
       "0              0.8          0.9              0.8             1.0   \n",
       "1              0.0          0.8              0.1             1.0   \n",
       "2              0.1          0.5              0.1             1.0   \n",
       "3              0.0          0.6              0.0             1.0   \n",
       "4              0.0          0.1              0.1             1.0   \n",
       "...            ...          ...              ...             ...   \n",
       "8787           0.0          0.0              0.0             0.3   \n",
       "8788           0.0          0.6              0.0             0.9   \n",
       "8789           0.0          0.4              0.0             1.0   \n",
       "8790           0.0          0.1              0.0             0.3   \n",
       "8791           0.0          1.0              0.5             1.0   \n",
       "\n",
       "      sr_mistral-7b-lm  sr_olmo-7b  sr_opt-6.7b  ...  maj_gemma-7b-it  \\\n",
       "0                  1.0         0.8          0.1  ...              1.0   \n",
       "1                  0.5         0.1          0.0  ...              0.0   \n",
       "2                  0.2         0.0          0.1  ...              0.0   \n",
       "3                  0.0         0.0          0.0  ...              1.0   \n",
       "4                  0.1         0.0          0.0  ...              0.0   \n",
       "...                ...         ...          ...  ...              ...   \n",
       "8787               0.0         0.0          0.0  ...              0.0   \n",
       "8788               0.6         0.0          0.0  ...              0.0   \n",
       "8789               0.3         0.0          0.0  ...              1.0   \n",
       "8790               0.0         0.1          0.2  ...              0.0   \n",
       "8791               0.8         0.0          0.0  ...              1.0   \n",
       "\n",
       "      maj_llama2-13b-chat  maj_mistral-7b-inst  \\\n",
       "0                     1.0                  1.0   \n",
       "1                     0.0                  1.0   \n",
       "2                     1.0                  1.0   \n",
       "3                     0.0                  1.0   \n",
       "4                     0.0                  0.0   \n",
       "...                   ...                  ...   \n",
       "8787                  0.0                  0.0   \n",
       "8788                  1.0                  1.0   \n",
       "8789                  0.0                  0.0   \n",
       "8790                  0.0                  1.0   \n",
       "8791                  1.0                  1.0   \n",
       "\n",
       "                               auto_answers_gemma-7b-it  \\\n",
       "0     [72.0, 24.0, 72.0, 72.0, 72.0, 'INVALID', 72.0...   \n",
       "1     [6.0, 6.0, 6.0, 6.0, 6.0, 'INVALID', 'INVALID'...   \n",
       "2     [-5.0, 30.0, 'INVALID', 45.0, 30.0, 35.0, 35.0...   \n",
       "3     [72.0, 84.0, 72.0, 42.0, 48.0, 84.0, 24.0, 42....   \n",
       "4     [208.0, 3.0, 104.0, 104.0, 'INVALID', 156.0, 1...   \n",
       "...                                                 ...   \n",
       "8787  ['INVALID', 17.0, 14.0, 8.0, 'INVALID', 10.0, ...   \n",
       "8788  ['INVALID', 'INVALID', 5.0, 9.0, 2.0, 'INVALID...   \n",
       "8789  [230.0, 230.0, 230.0, 950.0, 230.0, 950.0, 950...   \n",
       "8790  [0.0, 'INVALID', 3.0, 'INVALID', 'INVALID', 10...   \n",
       "8791  [14.0, 14.0, 8.0, 14.0, 'INVALID', 14.0, 8.0, ...   \n",
       "\n",
       "                           auto_answers_llama2-13b-chat  \\\n",
       "0     [72.0, 72.0, 72.0, 72.0, 720.0, 72.0, 24.0, 72...   \n",
       "1     [60.0, 9.96, 60.0, 60.0, 60.0, 60.0, 'INVALID'...   \n",
       "2     [45.0, 45.0, 45.0, 5.0, 55.0, 5.0, 5.0, 55.0, ...   \n",
       "3     [60.0, 64.0, 60.0, 44.0, 96.0, 84.0, 42.0, 96....   \n",
       "4     [312.0, 312.0, 312.0, 312.0, 624.0, 312.0, 208...   \n",
       "...                                                 ...   \n",
       "8787  [14.0, 11.0, 16.0, 35.0, 11.0, 8.0, 16.0, 15.0...   \n",
       "8788  [5.0, 9.0, 'INVALID', 5.0, 60.0, 0.0, 30.0, 1....   \n",
       "8789  [230.0, 470.0, 230.0, 470.0, 470.0, 470.0, 960...   \n",
       "8790  [30.0, 33.0, 23.0, 15.0, 35.0, 35.0, 30.0, 20....   \n",
       "8791  [14.0, 14.0, 14.0, 14.0, 14.0, 14.0, 14.0, 14....   \n",
       "\n",
       "                           auto_answers_mistral-7b-inst  rl_gemma-7b  \\\n",
       "0     [96.0, 24.0, 72.0, 72.0, 72.0, 72.0, 72.0, 72....     0.142857   \n",
       "1     [9.99992, 10.0, 12.0, 10.4, 10.0, 9.996, 12.0,...     0.428571   \n",
       "2     [5.0, 75.0, 5.0, 105.0, 55.0, 5.0, 92.5, 25.0,...     0.428571   \n",
       "3     [42.0, 72.0, 42.0, 54.0, 12.0, 60.0, 24.0, 'IN...     0.428571   \n",
       "4     [624.0, 312.0, 1296.0, 312.0, 312.0, 312.0, 62...     0.428571   \n",
       "...                                                 ...          ...   \n",
       "8787  ['INVALID', 6.0, 'INVALID', 38.0, 'INVALID', 3...     0.428571   \n",
       "8788  [5.0, 5.0, 'INVALID', 5.0, 5.0, 'INVALID', 5.0...     0.238095   \n",
       "8789  [230.0, 470.0, 80.0, 230.0, 230.0, 470.0, 470....     0.428571   \n",
       "8790  [15.0, 10.0, 14.0, 5.0, 5.0, 5.0, 5.0, 5.0, 17...     0.428571   \n",
       "8791  [14.0, 14.0, 11.2, 14.0, 56.0, 56.0, 14.0, 14....     0.142857   \n",
       "\n",
       "     rl_mistral-7b-lm rl_llama2-13b-chat rl_gemma-7b-it  \n",
       "0            0.142857           0.142857       0.142857  \n",
       "1            0.428571           0.047619       0.047619  \n",
       "2            0.047619           0.428571       0.047619  \n",
       "3            0.047619           0.047619       0.428571  \n",
       "4            0.428571           0.428571       0.428571  \n",
       "...               ...                ...            ...  \n",
       "8787         0.428571           0.428571       0.428571  \n",
       "8788         0.238095           0.238095       0.000000  \n",
       "8789         0.047619           0.047619       0.428571  \n",
       "8790         0.428571           0.428571       0.428571  \n",
       "8791         0.142857           0.142857       0.142857  \n",
       "\n",
       "[8792 rows x 37 columns]"
      ]
     },
     "execution_count": 20,
     "metadata": {},
     "output_type": "execute_result"
    }
   ],
   "source": [
    "df = pd.read_csv(\"gsm8k_unified_llm_response_data_v4.csv\")\n",
    "# df = pd.read_csv(\"mmlu_unified_llm_response_data_v4.csv\")\n",
    "df"
   ]
  },
  {
   "cell_type": "code",
   "execution_count": 21,
   "metadata": {},
   "outputs": [
    {
     "name": "stdout",
     "output_type": "stream",
     "text": [
      "falcon-7b\n",
      "gemma-7b\n",
      "llama2-7b-lm\n",
      "metamath-7b\n",
      "mistral-7b-lm\n",
      "olmo-7b\n",
      "opt-6.7b\n",
      "gemma-7b-it\n",
      "llama2-13b-chat\n",
      "mistral-7b-inst\n"
     ]
    }
   ],
   "source": [
    "def get_majority_vote(lst):\n",
    "    return Counter(lst).most_common(n=1)[0][0]\n",
    "\n",
    "for c in df.columns:\n",
    "    if c.startswith(\"auto_answers\"):\n",
    "        df[c] = [eval(v) for v in df[c]]\n",
    "        llm = c.split('_')[-1]\n",
    "        print(llm)\n",
    "        df[f\"maj_{llm}\"] = [float(get_majority_vote(v)==g) for v,g in zip(df[c],df[\"gold_answer\"])]\n",
    "        # df[f\"maj_{llm}_CHAT\"] = [float(get_majority_vote(v)==g) for v,g in zip(df[c],df[\"gold_answer\"])]"
   ]
  },
  {
   "cell_type": "code",
   "execution_count": 22,
   "metadata": {},
   "outputs": [],
   "source": [
    "llms = [\n",
    "\"llama2-7b-lm\",\n",
    "\"gemma-7b\",\n",
    "\"mistral-7b-lm\",\n",
    "\"metamath-7b\",\n",
    "\"gemma-7b-it\",\n",
    "\"llama2-13b-chat\",\n",
    "\"mistral-7b-inst\",\n",
    "]\n",
    "\n",
    "# llms = ['_'.join(c.strip().split('_')[-1:]) for c in df.columns if c.startswith('sr_')]\n",
    "# # exclude_list = [\"gemma-7b_LM\",\"mistral-7b-lm_LM\"]\n",
    "# # llms = [llm for llm in llms if llm not in exclude_list]\n",
    "\n",
    "llm_model_names = [\n",
    "    \"google/gemma-7b-it\",\n",
    "    \"meta-llama/Llama-2-13b-chat-hf\",\n",
    "    \"mistralai/Mistral-7B-Instruct-v0.1\",\n",
    "]\n",
    "\n",
    "tokenizers = [\n",
    "    AutoTokenizer.from_pretrained(model_name, trust_remote_code=True,\n",
    "    ) for model_name in llm_model_names\n",
    "]\n",
    "\n",
    "qset = [s.strip() for s in df[\"question\"]]\n",
    "# qset = [s.strip() for s in df[\"question\"]]\n",
    "# qset = gsols"
   ]
  },
  {
   "cell_type": "code",
   "execution_count": 23,
   "metadata": {},
   "outputs": [
    {
     "data": {
      "text/plain": [
       "['llama2-7b-lm',\n",
       " 'gemma-7b',\n",
       " 'mistral-7b-lm',\n",
       " 'metamath-7b',\n",
       " 'gemma-7b-it',\n",
       " 'llama2-13b-chat',\n",
       " 'mistral-7b-inst']"
      ]
     },
     "execution_count": 23,
     "metadata": {},
     "output_type": "execute_result"
    }
   ],
   "source": [
    "llms"
   ]
  },
  {
   "cell_type": "code",
   "execution_count": 27,
   "metadata": {},
   "outputs": [
    {
     "data": {
      "text/html": [
       "<div>\n",
       "<style scoped>\n",
       "    .dataframe tbody tr th:only-of-type {\n",
       "        vertical-align: middle;\n",
       "    }\n",
       "\n",
       "    .dataframe tbody tr th {\n",
       "        vertical-align: top;\n",
       "    }\n",
       "\n",
       "    .dataframe thead th {\n",
       "        text-align: right;\n",
       "    }\n",
       "</style>\n",
       "<table border=\"1\" class=\"dataframe\">\n",
       "  <thead>\n",
       "    <tr style=\"text-align: right;\">\n",
       "      <th></th>\n",
       "      <th>question</th>\n",
       "      <th>gold_answer</th>\n",
       "      <th>split</th>\n",
       "      <th>sr_falcon-7b</th>\n",
       "      <th>sr_gemma-7b</th>\n",
       "      <th>sr_llama2-7b-lm</th>\n",
       "      <th>sr_metamath-7b</th>\n",
       "      <th>sr_mistral-7b-lm</th>\n",
       "      <th>sr_olmo-7b</th>\n",
       "      <th>sr_opt-6.7b</th>\n",
       "      <th>...</th>\n",
       "      <th>maj_gemma-7b-it</th>\n",
       "      <th>maj_llama2-13b-chat</th>\n",
       "      <th>maj_mistral-7b-inst</th>\n",
       "      <th>auto_answers_gemma-7b-it</th>\n",
       "      <th>auto_answers_llama2-13b-chat</th>\n",
       "      <th>auto_answers_mistral-7b-inst</th>\n",
       "      <th>rl_gemma-7b</th>\n",
       "      <th>rl_mistral-7b-lm</th>\n",
       "      <th>rl_llama2-13b-chat</th>\n",
       "      <th>rl_gemma-7b-it</th>\n",
       "    </tr>\n",
       "  </thead>\n",
       "  <tbody>\n",
       "    <tr>\n",
       "      <th>0</th>\n",
       "      <td>Natalia sold clips to 48 of her friends in Apr...</td>\n",
       "      <td>72.0</td>\n",
       "      <td>train</td>\n",
       "      <td>0.8</td>\n",
       "      <td>0.9</td>\n",
       "      <td>0.8</td>\n",
       "      <td>1.0</td>\n",
       "      <td>1.0</td>\n",
       "      <td>0.8</td>\n",
       "      <td>0.1</td>\n",
       "      <td>...</td>\n",
       "      <td>1.0</td>\n",
       "      <td>1.0</td>\n",
       "      <td>1.0</td>\n",
       "      <td>[72.0, 24.0, 72.0, 72.0, 72.0, INVALID, 72.0, ...</td>\n",
       "      <td>[72.0, 72.0, 72.0, 72.0, 720.0, 72.0, 24.0, 72...</td>\n",
       "      <td>[96.0, 24.0, 72.0, 72.0, 72.0, 72.0, 72.0, 72....</td>\n",
       "      <td>0.142857</td>\n",
       "      <td>0.142857</td>\n",
       "      <td>0.142857</td>\n",
       "      <td>0.142857</td>\n",
       "    </tr>\n",
       "    <tr>\n",
       "      <th>1</th>\n",
       "      <td>Weng earns $12 an hour for babysitting. Yester...</td>\n",
       "      <td>10.0</td>\n",
       "      <td>train</td>\n",
       "      <td>0.0</td>\n",
       "      <td>0.8</td>\n",
       "      <td>0.1</td>\n",
       "      <td>1.0</td>\n",
       "      <td>0.5</td>\n",
       "      <td>0.1</td>\n",
       "      <td>0.0</td>\n",
       "      <td>...</td>\n",
       "      <td>0.0</td>\n",
       "      <td>0.0</td>\n",
       "      <td>1.0</td>\n",
       "      <td>[6.0, 6.0, 6.0, 6.0, 6.0, INVALID, INVALID, 9....</td>\n",
       "      <td>[60.0, 9.96, 60.0, 60.0, 60.0, 60.0, INVALID, ...</td>\n",
       "      <td>[9.99992, 10.0, 12.0, 10.4, 10.0, 9.996, 12.0,...</td>\n",
       "      <td>0.428571</td>\n",
       "      <td>0.428571</td>\n",
       "      <td>0.047619</td>\n",
       "      <td>0.047619</td>\n",
       "    </tr>\n",
       "    <tr>\n",
       "      <th>2</th>\n",
       "      <td>Betty is saving money for a new wallet which c...</td>\n",
       "      <td>5.0</td>\n",
       "      <td>train</td>\n",
       "      <td>0.1</td>\n",
       "      <td>0.5</td>\n",
       "      <td>0.1</td>\n",
       "      <td>1.0</td>\n",
       "      <td>0.2</td>\n",
       "      <td>0.0</td>\n",
       "      <td>0.1</td>\n",
       "      <td>...</td>\n",
       "      <td>0.0</td>\n",
       "      <td>1.0</td>\n",
       "      <td>1.0</td>\n",
       "      <td>[-5.0, 30.0, INVALID, 45.0, 30.0, 35.0, 35.0, ...</td>\n",
       "      <td>[45.0, 45.0, 45.0, 5.0, 55.0, 5.0, 5.0, 55.0, ...</td>\n",
       "      <td>[5.0, 75.0, 5.0, 105.0, 55.0, 5.0, 92.5, 25.0,...</td>\n",
       "      <td>0.428571</td>\n",
       "      <td>0.047619</td>\n",
       "      <td>0.428571</td>\n",
       "      <td>0.047619</td>\n",
       "    </tr>\n",
       "    <tr>\n",
       "      <th>3</th>\n",
       "      <td>Julie is reading a 120-page book. Yesterday, s...</td>\n",
       "      <td>42.0</td>\n",
       "      <td>train</td>\n",
       "      <td>0.0</td>\n",
       "      <td>0.6</td>\n",
       "      <td>0.0</td>\n",
       "      <td>1.0</td>\n",
       "      <td>0.0</td>\n",
       "      <td>0.0</td>\n",
       "      <td>0.0</td>\n",
       "      <td>...</td>\n",
       "      <td>1.0</td>\n",
       "      <td>0.0</td>\n",
       "      <td>1.0</td>\n",
       "      <td>[72.0, 84.0, 72.0, 42.0, 48.0, 84.0, 24.0, 42....</td>\n",
       "      <td>[60.0, 64.0, 60.0, 44.0, 96.0, 84.0, 42.0, 96....</td>\n",
       "      <td>[42.0, 72.0, 42.0, 54.0, 12.0, 60.0, 24.0, INV...</td>\n",
       "      <td>0.428571</td>\n",
       "      <td>0.047619</td>\n",
       "      <td>0.047619</td>\n",
       "      <td>0.428571</td>\n",
       "    </tr>\n",
       "    <tr>\n",
       "      <th>4</th>\n",
       "      <td>James writes a 3-page letter to 2 different fr...</td>\n",
       "      <td>624.0</td>\n",
       "      <td>train</td>\n",
       "      <td>0.0</td>\n",
       "      <td>0.1</td>\n",
       "      <td>0.1</td>\n",
       "      <td>1.0</td>\n",
       "      <td>0.1</td>\n",
       "      <td>0.0</td>\n",
       "      <td>0.0</td>\n",
       "      <td>...</td>\n",
       "      <td>0.0</td>\n",
       "      <td>0.0</td>\n",
       "      <td>0.0</td>\n",
       "      <td>[208.0, 3.0, 104.0, 104.0, INVALID, 156.0, 104...</td>\n",
       "      <td>[312.0, 312.0, 312.0, 312.0, 624.0, 312.0, 208...</td>\n",
       "      <td>[624.0, 312.0, 1296.0, 312.0, 312.0, 312.0, 62...</td>\n",
       "      <td>0.428571</td>\n",
       "      <td>0.428571</td>\n",
       "      <td>0.428571</td>\n",
       "      <td>0.428571</td>\n",
       "    </tr>\n",
       "    <tr>\n",
       "      <th>...</th>\n",
       "      <td>...</td>\n",
       "      <td>...</td>\n",
       "      <td>...</td>\n",
       "      <td>...</td>\n",
       "      <td>...</td>\n",
       "      <td>...</td>\n",
       "      <td>...</td>\n",
       "      <td>...</td>\n",
       "      <td>...</td>\n",
       "      <td>...</td>\n",
       "      <td>...</td>\n",
       "      <td>...</td>\n",
       "      <td>...</td>\n",
       "      <td>...</td>\n",
       "      <td>...</td>\n",
       "      <td>...</td>\n",
       "      <td>...</td>\n",
       "      <td>...</td>\n",
       "      <td>...</td>\n",
       "      <td>...</td>\n",
       "      <td>...</td>\n",
       "    </tr>\n",
       "    <tr>\n",
       "      <th>8787</th>\n",
       "      <td>John had a son James when he was 19.  James is...</td>\n",
       "      <td>8.0</td>\n",
       "      <td>test</td>\n",
       "      <td>0.0</td>\n",
       "      <td>0.0</td>\n",
       "      <td>0.0</td>\n",
       "      <td>0.3</td>\n",
       "      <td>0.0</td>\n",
       "      <td>0.0</td>\n",
       "      <td>0.0</td>\n",
       "      <td>...</td>\n",
       "      <td>0.0</td>\n",
       "      <td>0.0</td>\n",
       "      <td>0.0</td>\n",
       "      <td>[INVALID, 17.0, 14.0, 8.0, INVALID, 10.0, 16.0...</td>\n",
       "      <td>[14.0, 11.0, 16.0, 35.0, 11.0, 8.0, 16.0, 15.0...</td>\n",
       "      <td>[INVALID, 6.0, INVALID, 38.0, INVALID, 38.0, I...</td>\n",
       "      <td>0.428571</td>\n",
       "      <td>0.428571</td>\n",
       "      <td>0.428571</td>\n",
       "      <td>0.428571</td>\n",
       "    </tr>\n",
       "    <tr>\n",
       "      <th>8788</th>\n",
       "      <td>There are some oranges in a basket. Ana spends...</td>\n",
       "      <td>5.0</td>\n",
       "      <td>test</td>\n",
       "      <td>0.0</td>\n",
       "      <td>0.6</td>\n",
       "      <td>0.0</td>\n",
       "      <td>0.9</td>\n",
       "      <td>0.6</td>\n",
       "      <td>0.0</td>\n",
       "      <td>0.0</td>\n",
       "      <td>...</td>\n",
       "      <td>0.0</td>\n",
       "      <td>1.0</td>\n",
       "      <td>1.0</td>\n",
       "      <td>[INVALID, INVALID, 5.0, 9.0, 2.0, INVALID, INV...</td>\n",
       "      <td>[5.0, 9.0, INVALID, 5.0, 60.0, 0.0, 30.0, 1.0,...</td>\n",
       "      <td>[5.0, 5.0, INVALID, 5.0, 5.0, INVALID, 5.0, 5....</td>\n",
       "      <td>0.238095</td>\n",
       "      <td>0.238095</td>\n",
       "      <td>0.238095</td>\n",
       "      <td>0.000000</td>\n",
       "    </tr>\n",
       "    <tr>\n",
       "      <th>8789</th>\n",
       "      <td>Mark's car breaks down and he needs to get a n...</td>\n",
       "      <td>230.0</td>\n",
       "      <td>test</td>\n",
       "      <td>0.0</td>\n",
       "      <td>0.4</td>\n",
       "      <td>0.0</td>\n",
       "      <td>1.0</td>\n",
       "      <td>0.3</td>\n",
       "      <td>0.0</td>\n",
       "      <td>0.0</td>\n",
       "      <td>...</td>\n",
       "      <td>1.0</td>\n",
       "      <td>0.0</td>\n",
       "      <td>0.0</td>\n",
       "      <td>[230.0, 230.0, 230.0, 950.0, 230.0, 950.0, 950...</td>\n",
       "      <td>[230.0, 470.0, 230.0, 470.0, 470.0, 470.0, 960...</td>\n",
       "      <td>[230.0, 470.0, 80.0, 230.0, 230.0, 470.0, 470....</td>\n",
       "      <td>0.428571</td>\n",
       "      <td>0.047619</td>\n",
       "      <td>0.047619</td>\n",
       "      <td>0.428571</td>\n",
       "    </tr>\n",
       "    <tr>\n",
       "      <th>8790</th>\n",
       "      <td>Farmer Brown has 20 animals on his farm, all e...</td>\n",
       "      <td>5.0</td>\n",
       "      <td>test</td>\n",
       "      <td>0.0</td>\n",
       "      <td>0.1</td>\n",
       "      <td>0.0</td>\n",
       "      <td>0.3</td>\n",
       "      <td>0.0</td>\n",
       "      <td>0.1</td>\n",
       "      <td>0.2</td>\n",
       "      <td>...</td>\n",
       "      <td>0.0</td>\n",
       "      <td>0.0</td>\n",
       "      <td>1.0</td>\n",
       "      <td>[0.0, INVALID, 3.0, INVALID, INVALID, 10.0, 40...</td>\n",
       "      <td>[30.0, 33.0, 23.0, 15.0, 35.0, 35.0, 30.0, 20....</td>\n",
       "      <td>[15.0, 10.0, 14.0, 5.0, 5.0, 5.0, 5.0, 5.0, 17...</td>\n",
       "      <td>0.428571</td>\n",
       "      <td>0.428571</td>\n",
       "      <td>0.428571</td>\n",
       "      <td>0.428571</td>\n",
       "    </tr>\n",
       "    <tr>\n",
       "      <th>8791</th>\n",
       "      <td>Henry and 3 of his friends order 7 pizzas for ...</td>\n",
       "      <td>14.0</td>\n",
       "      <td>test</td>\n",
       "      <td>0.0</td>\n",
       "      <td>1.0</td>\n",
       "      <td>0.5</td>\n",
       "      <td>1.0</td>\n",
       "      <td>0.8</td>\n",
       "      <td>0.0</td>\n",
       "      <td>0.0</td>\n",
       "      <td>...</td>\n",
       "      <td>1.0</td>\n",
       "      <td>1.0</td>\n",
       "      <td>1.0</td>\n",
       "      <td>[14.0, 14.0, 8.0, 14.0, INVALID, 14.0, 8.0, IN...</td>\n",
       "      <td>[14.0, 14.0, 14.0, 14.0, 14.0, 14.0, 14.0, 14....</td>\n",
       "      <td>[14.0, 14.0, 11.2, 14.0, 56.0, 56.0, 14.0, 14....</td>\n",
       "      <td>0.142857</td>\n",
       "      <td>0.142857</td>\n",
       "      <td>0.142857</td>\n",
       "      <td>0.142857</td>\n",
       "    </tr>\n",
       "  </tbody>\n",
       "</table>\n",
       "<p>8792 rows × 37 columns</p>\n",
       "</div>"
      ],
      "text/plain": [
       "                                               question  gold_answer  split  \\\n",
       "0     Natalia sold clips to 48 of her friends in Apr...         72.0  train   \n",
       "1     Weng earns $12 an hour for babysitting. Yester...         10.0  train   \n",
       "2     Betty is saving money for a new wallet which c...          5.0  train   \n",
       "3     Julie is reading a 120-page book. Yesterday, s...         42.0  train   \n",
       "4     James writes a 3-page letter to 2 different fr...        624.0  train   \n",
       "...                                                 ...          ...    ...   \n",
       "8787  John had a son James when he was 19.  James is...          8.0   test   \n",
       "8788  There are some oranges in a basket. Ana spends...          5.0   test   \n",
       "8789  Mark's car breaks down and he needs to get a n...        230.0   test   \n",
       "8790  Farmer Brown has 20 animals on his farm, all e...          5.0   test   \n",
       "8791  Henry and 3 of his friends order 7 pizzas for ...         14.0   test   \n",
       "\n",
       "      sr_falcon-7b  sr_gemma-7b  sr_llama2-7b-lm  sr_metamath-7b  \\\n",
       "0              0.8          0.9              0.8             1.0   \n",
       "1              0.0          0.8              0.1             1.0   \n",
       "2              0.1          0.5              0.1             1.0   \n",
       "3              0.0          0.6              0.0             1.0   \n",
       "4              0.0          0.1              0.1             1.0   \n",
       "...            ...          ...              ...             ...   \n",
       "8787           0.0          0.0              0.0             0.3   \n",
       "8788           0.0          0.6              0.0             0.9   \n",
       "8789           0.0          0.4              0.0             1.0   \n",
       "8790           0.0          0.1              0.0             0.3   \n",
       "8791           0.0          1.0              0.5             1.0   \n",
       "\n",
       "      sr_mistral-7b-lm  sr_olmo-7b  sr_opt-6.7b  ...  maj_gemma-7b-it  \\\n",
       "0                  1.0         0.8          0.1  ...              1.0   \n",
       "1                  0.5         0.1          0.0  ...              0.0   \n",
       "2                  0.2         0.0          0.1  ...              0.0   \n",
       "3                  0.0         0.0          0.0  ...              1.0   \n",
       "4                  0.1         0.0          0.0  ...              0.0   \n",
       "...                ...         ...          ...  ...              ...   \n",
       "8787               0.0         0.0          0.0  ...              0.0   \n",
       "8788               0.6         0.0          0.0  ...              0.0   \n",
       "8789               0.3         0.0          0.0  ...              1.0   \n",
       "8790               0.0         0.1          0.2  ...              0.0   \n",
       "8791               0.8         0.0          0.0  ...              1.0   \n",
       "\n",
       "      maj_llama2-13b-chat  maj_mistral-7b-inst  \\\n",
       "0                     1.0                  1.0   \n",
       "1                     0.0                  1.0   \n",
       "2                     1.0                  1.0   \n",
       "3                     0.0                  1.0   \n",
       "4                     0.0                  0.0   \n",
       "...                   ...                  ...   \n",
       "8787                  0.0                  0.0   \n",
       "8788                  1.0                  1.0   \n",
       "8789                  0.0                  0.0   \n",
       "8790                  0.0                  1.0   \n",
       "8791                  1.0                  1.0   \n",
       "\n",
       "                               auto_answers_gemma-7b-it  \\\n",
       "0     [72.0, 24.0, 72.0, 72.0, 72.0, INVALID, 72.0, ...   \n",
       "1     [6.0, 6.0, 6.0, 6.0, 6.0, INVALID, INVALID, 9....   \n",
       "2     [-5.0, 30.0, INVALID, 45.0, 30.0, 35.0, 35.0, ...   \n",
       "3     [72.0, 84.0, 72.0, 42.0, 48.0, 84.0, 24.0, 42....   \n",
       "4     [208.0, 3.0, 104.0, 104.0, INVALID, 156.0, 104...   \n",
       "...                                                 ...   \n",
       "8787  [INVALID, 17.0, 14.0, 8.0, INVALID, 10.0, 16.0...   \n",
       "8788  [INVALID, INVALID, 5.0, 9.0, 2.0, INVALID, INV...   \n",
       "8789  [230.0, 230.0, 230.0, 950.0, 230.0, 950.0, 950...   \n",
       "8790  [0.0, INVALID, 3.0, INVALID, INVALID, 10.0, 40...   \n",
       "8791  [14.0, 14.0, 8.0, 14.0, INVALID, 14.0, 8.0, IN...   \n",
       "\n",
       "                           auto_answers_llama2-13b-chat  \\\n",
       "0     [72.0, 72.0, 72.0, 72.0, 720.0, 72.0, 24.0, 72...   \n",
       "1     [60.0, 9.96, 60.0, 60.0, 60.0, 60.0, INVALID, ...   \n",
       "2     [45.0, 45.0, 45.0, 5.0, 55.0, 5.0, 5.0, 55.0, ...   \n",
       "3     [60.0, 64.0, 60.0, 44.0, 96.0, 84.0, 42.0, 96....   \n",
       "4     [312.0, 312.0, 312.0, 312.0, 624.0, 312.0, 208...   \n",
       "...                                                 ...   \n",
       "8787  [14.0, 11.0, 16.0, 35.0, 11.0, 8.0, 16.0, 15.0...   \n",
       "8788  [5.0, 9.0, INVALID, 5.0, 60.0, 0.0, 30.0, 1.0,...   \n",
       "8789  [230.0, 470.0, 230.0, 470.0, 470.0, 470.0, 960...   \n",
       "8790  [30.0, 33.0, 23.0, 15.0, 35.0, 35.0, 30.0, 20....   \n",
       "8791  [14.0, 14.0, 14.0, 14.0, 14.0, 14.0, 14.0, 14....   \n",
       "\n",
       "                           auto_answers_mistral-7b-inst  rl_gemma-7b  \\\n",
       "0     [96.0, 24.0, 72.0, 72.0, 72.0, 72.0, 72.0, 72....     0.142857   \n",
       "1     [9.99992, 10.0, 12.0, 10.4, 10.0, 9.996, 12.0,...     0.428571   \n",
       "2     [5.0, 75.0, 5.0, 105.0, 55.0, 5.0, 92.5, 25.0,...     0.428571   \n",
       "3     [42.0, 72.0, 42.0, 54.0, 12.0, 60.0, 24.0, INV...     0.428571   \n",
       "4     [624.0, 312.0, 1296.0, 312.0, 312.0, 312.0, 62...     0.428571   \n",
       "...                                                 ...          ...   \n",
       "8787  [INVALID, 6.0, INVALID, 38.0, INVALID, 38.0, I...     0.428571   \n",
       "8788  [5.0, 5.0, INVALID, 5.0, 5.0, INVALID, 5.0, 5....     0.238095   \n",
       "8789  [230.0, 470.0, 80.0, 230.0, 230.0, 470.0, 470....     0.428571   \n",
       "8790  [15.0, 10.0, 14.0, 5.0, 5.0, 5.0, 5.0, 5.0, 17...     0.428571   \n",
       "8791  [14.0, 14.0, 11.2, 14.0, 56.0, 56.0, 14.0, 14....     0.142857   \n",
       "\n",
       "     rl_mistral-7b-lm rl_llama2-13b-chat rl_gemma-7b-it  \n",
       "0            0.142857           0.142857       0.142857  \n",
       "1            0.428571           0.047619       0.047619  \n",
       "2            0.047619           0.428571       0.047619  \n",
       "3            0.047619           0.047619       0.428571  \n",
       "4            0.428571           0.428571       0.428571  \n",
       "...               ...                ...            ...  \n",
       "8787         0.428571           0.428571       0.428571  \n",
       "8788         0.238095           0.238095       0.000000  \n",
       "8789         0.047619           0.047619       0.428571  \n",
       "8790         0.428571           0.428571       0.428571  \n",
       "8791         0.142857           0.142857       0.142857  \n",
       "\n",
       "[8792 rows x 37 columns]"
      ]
     },
     "execution_count": 27,
     "metadata": {},
     "output_type": "execute_result"
    }
   ],
   "source": [
    "df"
   ]
  },
  {
   "cell_type": "code",
   "execution_count": null,
   "metadata": {},
   "outputs": [],
   "source": [
    "from sklearn.cluster import KMeans\n",
    "import pandas as pd\n",
    "import torch\n",
    "from transformers import AutoTokenizer, AutoModel\n",
    "\n",
    "bert_model = \"bert-base-uncased\"\n",
    "tokenizer = AutoTokenizer.from_pretrained(bert_model)\n",
    "model = AutoModel.from_pretrained(bert_model)\n",
    "\n",
    "def encode(texts):\n",
    "    inputs = tokenizer(texts, padding=True, truncation=True, return_tensors=\"pt\")\n",
    "    with torch.no_grad():\n",
    "        outputs = model(**inputs)\n",
    "    embeddings = outputs.last_hidden_state.mean(dim=1)\n",
    "    return embeddings.numpy()\n",
    "\n",
    "embeddings = encode(qset)\n",
    "\n",
    "print(embeddings.shape)\n",
    "\n",
    "num_clusters = 50  # Number of clusters\n",
    "km = KMeans(n_clusters=num_clusters, verbose=True, max_iter=1000, random_state=10)\n",
    "km.fit(embeddings)\n",
    "clusters = km.labels_.tolist()\n",
    "\n",
    "df[\"cluster\"] = clusters"
   ]
  },
  {
   "cell_type": "code",
   "execution_count": 29,
   "metadata": {},
   "outputs": [],
   "source": [
    "def get_majority_vote(lst):\n",
    "    return Counter(lst).most_common(n=1)[0][0]\n",
    "\n",
    "from itertools import chain, combinations\n",
    "def powerset(iterable):\n",
    "    s = list(iterable)\n",
    "    return chain.from_iterable(combinations(s, r) for r in range(len(s)+1))\n",
    "\n",
    "def best_llm_set_majority_vote_for_cluster(subdf):\n",
    "    best_set, best_score = None, -1\n",
    "    for llm_set in powerset(llms):\n",
    "        if len(llm_set)==0:\n",
    "            continue\n",
    "        score = []\n",
    "        for row, g in zip(subdf[[f\"auto_answers_{llm}\" for llm in llm_set]].to_numpy(), subdf[\"gold_answer\"]):\n",
    "            score.append(get_majority_vote([v for l in row for v in l]) == g)\n",
    "        score = np.mean(score)\n",
    "        # print(llm_set, score)\n",
    "        if score > best_score:\n",
    "            best_score = score\n",
    "            best_set = llm_set\n",
    "    # print(best_set)\n",
    "    return best_set\n",
    "\n",
    "llm2idx = {llm:idx for idx, llm in enumerate(llms)}\n",
    "idx2llm = {idx:llm for idx, llm in enumerate(llms)}"
   ]
  },
  {
   "cell_type": "code",
   "execution_count": 30,
   "metadata": {},
   "outputs": [
    {
     "name": "stdout",
     "output_type": "stream",
     "text": [
      "0 131 [0.2366412213740458, 0.7022900763358778, 0.6717557251908397, 0.9389312977099237, 0.32061068702290074, 0.5572519083969466, 0.40458015267175573] [3]\n",
      "1 161 [0.15527950310559005, 0.5714285714285714, 0.515527950310559, 0.7142857142857143, 0.33540372670807456, 0.484472049689441, 0.4658385093167702] [3]\n",
      "2 169 [0.27218934911242604, 0.7988165680473372, 0.5798816568047337, 0.9467455621301775, 0.33727810650887574, 0.4911242603550296, 0.5443786982248521] [3]\n",
      "3 190 [0.19473684210526315, 0.7473684210526316, 0.5473684210526316, 0.9473684210526315, 0.43157894736842106, 0.49473684210526314, 0.6421052631578947] [3]\n",
      "4 216 [0.2638888888888889, 0.7268518518518519, 0.6157407407407407, 0.9490740740740741, 0.375, 0.5138888888888888, 0.49074074074074076] [3]\n",
      "5 103 [0.2912621359223301, 0.7669902912621359, 0.5825242718446602, 0.9611650485436893, 0.3786407766990291, 0.6310679611650486, 0.6699029126213593] [3]\n",
      "6 160 [0.23125, 0.775, 0.6125, 0.95, 0.275, 0.5, 0.50625] [3]\n",
      "7 96 [0.25, 0.8020833333333334, 0.6458333333333334, 0.9375, 0.3125, 0.5, 0.5625] [3]\n",
      "8 196 [0.1836734693877551, 0.6377551020408163, 0.5, 0.9132653061224489, 0.32142857142857145, 0.44387755102040816, 0.45408163265306123] [3]\n",
      "9 105 [0.21904761904761905, 0.6761904761904762, 0.5047619047619047, 0.9238095238095239, 0.2571428571428571, 0.45714285714285713, 0.49523809523809526] [3]\n",
      "10 206 [0.2669902912621359, 0.7621359223300971, 0.6359223300970874, 0.9466019417475728, 0.38349514563106796, 0.5097087378640777, 0.45145631067961167] [3]\n",
      "11 66 [0.2878787878787879, 0.8484848484848485, 0.6818181818181818, 0.9696969696969697, 0.4393939393939394, 0.5606060606060606, 0.6515151515151515] [3]\n",
      "12 198 [0.18686868686868688, 0.7474747474747475, 0.5707070707070707, 0.9393939393939394, 0.37373737373737376, 0.4292929292929293, 0.5707070707070707] [3]\n",
      "13 88 [0.17045454545454544, 0.7386363636363636, 0.5568181818181818, 0.8863636363636364, 0.29545454545454547, 0.5568181818181818, 0.48863636363636365] [3]\n",
      "14 158 [0.17721518987341772, 0.7025316455696202, 0.5949367088607594, 0.930379746835443, 0.36075949367088606, 0.43670886075949367, 0.4620253164556962] [3]\n",
      "15 243 [0.1934156378600823, 0.7695473251028807, 0.6584362139917695, 0.9382716049382716, 0.34156378600823045, 0.522633744855967, 0.5267489711934157] [3]\n",
      "16 158 [0.20253164556962025, 0.7721518987341772, 0.5886075949367089, 0.9810126582278481, 0.3227848101265823, 0.4936708860759494, 0.6075949367088608] [3]\n",
      "17 258 [0.18992248062015504, 0.7209302325581395, 0.5968992248062015, 0.7674418604651163, 0.5077519379844961, 0.5775193798449613, 0.627906976744186] [3]\n",
      "18 139 [0.2158273381294964, 0.697841726618705, 0.6258992805755396, 0.9568345323741008, 0.3381294964028777, 0.4316546762589928, 0.45323741007194246] [3]\n",
      "19 89 [0.20224719101123595, 0.7303370786516854, 0.5955056179775281, 0.9325842696629213, 0.3595505617977528, 0.4606741573033708, 0.4044943820224719] [3]\n",
      "20 185 [0.20540540540540542, 0.7189189189189189, 0.5675675675675675, 0.9513513513513514, 0.3027027027027027, 0.4486486486486487, 0.4702702702702703] [3]\n",
      "21 123 [0.2682926829268293, 0.7317073170731707, 0.6016260162601627, 0.943089430894309, 0.3333333333333333, 0.5934959349593496, 0.5609756097560976] [3]\n",
      "22 96 [0.25, 0.75, 0.5520833333333334, 0.96875, 0.375, 0.4791666666666667, 0.4479166666666667] [3]\n",
      "23 163 [0.2147239263803681, 0.7177914110429447, 0.5644171779141104, 0.9386503067484663, 0.3067484662576687, 0.49693251533742333, 0.5030674846625767] [3]\n",
      "24 184 [0.30978260869565216, 0.8315217391304348, 0.6739130434782609, 0.9728260869565217, 0.44021739130434784, 0.5163043478260869, 0.6304347826086957] [3]\n",
      "25 216 [0.2175925925925926, 0.7314814814814815, 0.5694444444444444, 0.9166666666666666, 0.3425925925925926, 0.44907407407407407, 0.44907407407407407] [3]\n",
      "26 187 [0.2994652406417112, 0.8074866310160428, 0.6577540106951871, 0.9358288770053476, 0.48663101604278075, 0.5935828877005348, 0.679144385026738] [3]\n",
      "27 134 [0.3283582089552239, 0.8731343283582089, 0.7388059701492538, 0.9701492537313433, 0.582089552238806, 0.6044776119402985, 0.6417910447761194] [3]\n",
      "28 181 [0.23756906077348067, 0.7348066298342542, 0.6187845303867403, 0.9281767955801105, 0.4143646408839779, 0.49171270718232046, 0.5027624309392266] [3]\n",
      "29 135 [0.2518518518518518, 0.7333333333333333, 0.5925925925925926, 0.9259259259259259, 0.37037037037037035, 0.5259259259259259, 0.5185185185185185] [3]\n",
      "30 123 [0.21951219512195122, 0.7235772357723578, 0.6341463414634146, 0.983739837398374, 0.3983739837398374, 0.5528455284552846, 0.5447154471544715] [3]\n",
      "31 128 [0.3046875, 0.765625, 0.625, 0.96875, 0.4453125, 0.5546875, 0.578125] [3]\n",
      "32 218 [0.1651376146788991, 0.6284403669724771, 0.481651376146789, 0.8944954128440367, 0.27522935779816515, 0.3532110091743119, 0.46788990825688076] [3]\n",
      "33 127 [0.2283464566929134, 0.6456692913385826, 0.5196850393700787, 0.9133858267716536, 0.25984251968503935, 0.4409448818897638, 0.49606299212598426] [3]\n",
      "34 114 [0.2807017543859649, 0.7456140350877193, 0.6228070175438597, 0.9298245614035088, 0.32456140350877194, 0.49122807017543857, 0.5087719298245614] [3]\n",
      "35 110 [0.20909090909090908, 0.7181818181818181, 0.5909090909090909, 0.9181818181818182, 0.36363636363636365, 0.4818181818181818, 0.5181818181818182] [3]\n",
      "36 171 [0.14035087719298245, 0.6549707602339181, 0.5029239766081871, 0.8654970760233918, 0.30994152046783624, 0.4444444444444444, 0.43859649122807015] [3]\n",
      "37 98 [0.21428571428571427, 0.7244897959183674, 0.5612244897959183, 0.9285714285714286, 0.40816326530612246, 0.46938775510204084, 0.6224489795918368] [3]\n",
      "38 133 [0.24060150375939848, 0.7894736842105263, 0.5639097744360902, 0.924812030075188, 0.42105263157894735, 0.5263157894736842, 0.5864661654135338] [3]\n",
      "39 209 [0.2679425837320574, 0.7416267942583732, 0.6028708133971292, 0.9425837320574163, 0.3684210526315789, 0.5406698564593302, 0.5358851674641149] [3]\n",
      "40 114 [0.2631578947368421, 0.7192982456140351, 0.6666666666666666, 0.9210526315789473, 0.543859649122807, 0.6052631578947368, 0.6140350877192983] [3]\n",
      "41 114 [0.2894736842105263, 0.7543859649122807, 0.5789473684210527, 0.956140350877193, 0.34210526315789475, 0.5087719298245614, 0.543859649122807] [3]\n",
      "42 159 [0.1761006289308176, 0.6163522012578616, 0.4716981132075472, 0.7672955974842768, 0.29559748427672955, 0.4276729559748428, 0.4591194968553459] [3]\n",
      "43 65 [0.26153846153846155, 0.7846153846153846, 0.676923076923077, 0.9538461538461539, 0.36923076923076925, 0.5538461538461539, 0.47692307692307695] [3]\n",
      "44 225 [0.24888888888888888, 0.7377777777777778, 0.5955555555555555, 0.9022222222222223, 0.3377777777777778, 0.49333333333333335, 0.5244444444444445] [3]\n",
      "45 79 [0.17721518987341772, 0.6835443037974683, 0.4430379746835443, 0.9746835443037974, 0.26582278481012656, 0.379746835443038, 0.34177215189873417] [3]\n",
      "46 206 [0.2912621359223301, 0.8446601941747572, 0.6553398058252428, 0.9611650485436893, 0.5242718446601942, 0.5485436893203883, 0.5679611650485437] [3]\n",
      "47 142 [0.31690140845070425, 0.7394366197183099, 0.6338028169014085, 0.9647887323943662, 0.3873239436619718, 0.5563380281690141, 0.47183098591549294] [3]\n",
      "48 102 [0.3333333333333333, 0.7450980392156863, 0.6372549019607843, 0.9509803921568627, 0.46078431372549017, 0.5098039215686274, 0.6372549019607843] [3]\n",
      "49 102 [0.23529411764705882, 0.7254901960784313, 0.5588235294117647, 0.8627450980392157, 0.37254901960784315, 0.5, 0.4803921568627451] [3]\n"
     ]
    }
   ],
   "source": [
    "# MODE = \"sr\"\n",
    "MODE = \"maj\"\n",
    "TH = 0.99\n",
    "\n",
    "viable_lidxs_by_train = {}\n",
    "train_df, test_df = df[df[\"split\"]!=\"test\"], df[df[\"split\"]==\"test\"]\n",
    "for c in sorted(df[\"cluster\"].unique()):\n",
    "    subdf = train_df[train_df[\"cluster\"]==c]\n",
    "    srs = [subdf[f\"{MODE}_{llm}\"].mean() for llm in llms]\n",
    "    viable_lidxs_by_train[c] = [lidx for lidx, sr in enumerate(srs) if sr>=TH]\n",
    "    # viable_lidxs_by_train[c] = [llm2idx[llm] for llm in best_llm_set_majority_vote_for_cluster(subdf)]\n",
    "    if len(viable_lidxs_by_train[c]) == 0:\n",
    "        viable_lidxs_by_train[c] = [np.argmax(srs)]\n",
    "    print(c,len(subdf), srs, viable_lidxs_by_train[c])"
   ]
  },
  {
   "cell_type": "code",
   "execution_count": 31,
   "metadata": {},
   "outputs": [
    {
     "name": "stdout",
     "output_type": "stream",
     "text": [
      "0 23 [0.17391304347826086, 0.5652173913043478, 0.5217391304347826, 0.5652173913043478, 0.17391304347826086, 0.391304347826087, 0.5217391304347826] ([3], [1])\n",
      "1 37 [0.2702702702702703, 0.8378378378378378, 0.7297297297297297, 0.6756756756756757, 0.5945945945945946, 0.6216216216216216, 0.6216216216216216] ([3], [1])\n",
      "2 24 [0.20833333333333334, 0.7083333333333334, 0.75, 0.75, 0.3333333333333333, 0.4166666666666667, 0.625] ([3], [2])\n",
      "3 22 [0.22727272727272727, 0.6818181818181818, 0.5454545454545454, 0.8181818181818182, 0.22727272727272727, 0.36363636363636365, 0.45454545454545453] ([3], [3])\n",
      "4 35 [0.17142857142857143, 0.7142857142857143, 0.5142857142857142, 0.6, 0.42857142857142855, 0.42857142857142855, 0.42857142857142855] ([3], [1])\n",
      "5 19 [0.21052631578947367, 0.8421052631578947, 0.6842105263157895, 0.7894736842105263, 0.42105263157894735, 0.7894736842105263, 0.5789473684210527] ([3], [1])\n",
      "6 23 [0.08695652173913043, 0.782608695652174, 0.6956521739130435, 0.6086956521739131, 0.30434782608695654, 0.5217391304347826, 0.4782608695652174] ([3], [1])\n",
      "7 15 [0.2, 0.8, 0.7333333333333333, 0.7333333333333333, 0.2, 0.4666666666666667, 0.6] ([3], [1])\n",
      "8 22 [0.045454545454545456, 0.5909090909090909, 0.5909090909090909, 0.5454545454545454, 0.4090909090909091, 0.5454545454545454, 0.36363636363636365] ([3], [1])\n",
      "9 17 [0.29411764705882354, 0.5294117647058824, 0.35294117647058826, 0.6470588235294118, 0.23529411764705882, 0.35294117647058826, 0.5294117647058824] ([3], [3])\n",
      "10 28 [0.2857142857142857, 0.75, 0.6428571428571429, 0.6785714285714286, 0.39285714285714285, 0.42857142857142855, 0.4642857142857143] ([3], [1])\n",
      "11 14 [0.21428571428571427, 0.9285714285714286, 0.7857142857142857, 0.9285714285714286, 0.6428571428571429, 0.7142857142857143, 0.7142857142857143] ([3], [1])\n",
      "12 30 [0.13333333333333333, 0.7666666666666667, 0.6333333333333333, 0.6666666666666666, 0.3, 0.5333333333333333, 0.5333333333333333] ([3], [1])\n",
      "13 21 [0.19047619047619047, 0.7619047619047619, 0.8571428571428571, 0.8095238095238095, 0.5714285714285714, 0.6190476190476191, 0.8571428571428571] ([3], [2])\n",
      "14 40 [0.1, 0.65, 0.425, 0.6, 0.175, 0.4, 0.425] ([3], [1])\n",
      "15 46 [0.30434782608695654, 0.717391304347826, 0.6521739130434783, 0.7391304347826086, 0.34782608695652173, 0.5434782608695652, 0.6086956521739131] ([3], [3])\n",
      "16 21 [0.42857142857142855, 0.9523809523809523, 0.6666666666666666, 0.9047619047619048, 0.6190476190476191, 0.6666666666666666, 0.7142857142857143] ([3], [1])\n",
      "17 51 [0.21568627450980393, 0.6470588235294118, 0.5686274509803921, 0.5686274509803921, 0.5686274509803921, 0.47058823529411764, 0.5686274509803921] ([3], [1])\n",
      "18 22 [0.13636363636363635, 0.8636363636363636, 0.8181818181818182, 0.8181818181818182, 0.5454545454545454, 0.6818181818181818, 0.5454545454545454] ([3], [1])\n",
      "19 20 [0.2, 0.75, 0.6, 0.9, 0.45, 0.6, 0.7] ([3], [3])\n",
      "20 29 [0.27586206896551724, 0.8275862068965517, 0.6206896551724138, 0.7586206896551724, 0.2413793103448276, 0.5172413793103449, 0.4827586206896552] ([3], [1])\n",
      "21 23 [0.13043478260869565, 0.6521739130434783, 0.6956521739130435, 0.8260869565217391, 0.30434782608695654, 0.4782608695652174, 0.6086956521739131] ([3], [3])\n",
      "22 20 [0.35, 0.9, 0.75, 0.75, 0.5, 0.6, 0.5] ([3], [1])\n",
      "23 27 [0.25925925925925924, 0.5555555555555556, 0.4074074074074074, 0.48148148148148145, 0.3333333333333333, 0.25925925925925924, 0.3333333333333333] ([3], [1])\n",
      "24 25 [0.28, 0.84, 0.64, 0.84, 0.36, 0.6, 0.68] ([3], [1])\n",
      "25 34 [0.38235294117647056, 0.7058823529411765, 0.6470588235294118, 0.7058823529411765, 0.5, 0.6176470588235294, 0.5588235294117647] ([3], [1])\n",
      "26 31 [0.25806451612903225, 0.7096774193548387, 0.5806451612903226, 0.5483870967741935, 0.5161290322580645, 0.4838709677419355, 0.5806451612903226] ([3], [1])\n",
      "27 33 [0.45454545454545453, 0.7878787878787878, 0.7272727272727273, 0.7272727272727273, 0.6666666666666666, 0.6363636363636364, 0.8181818181818182] ([3], [6])\n",
      "28 30 [0.3333333333333333, 0.7666666666666667, 0.6666666666666666, 0.6, 0.4, 0.43333333333333335, 0.5666666666666667] ([3], [1])\n",
      "29 24 [0.20833333333333334, 0.5833333333333334, 0.5416666666666666, 0.75, 0.5833333333333334, 0.375, 0.4583333333333333] ([3], [3])\n",
      "30 25 [0.28, 0.64, 0.68, 0.56, 0.28, 0.4, 0.48] ([3], [2])\n",
      "31 18 [0.3333333333333333, 0.8888888888888888, 0.7222222222222222, 0.8333333333333334, 0.7222222222222222, 0.6111111111111112, 0.6666666666666666] ([3], [1])\n",
      "32 41 [0.04878048780487805, 0.5853658536585366, 0.5121951219512195, 0.5853658536585366, 0.2682926829268293, 0.3902439024390244, 0.34146341463414637] ([3], [1])\n",
      "33 29 [0.1724137931034483, 0.6206896551724138, 0.4827586206896552, 0.5862068965517241, 0.20689655172413793, 0.5517241379310345, 0.5517241379310345] ([3], [1])\n",
      "34 23 [0.2608695652173913, 0.6521739130434783, 0.6086956521739131, 0.6956521739130435, 0.34782608695652173, 0.5217391304347826, 0.6086956521739131] ([3], [3])\n",
      "35 24 [0.375, 0.625, 0.4166666666666667, 0.5, 0.2916666666666667, 0.2916666666666667, 0.4583333333333333] ([3], [1])\n",
      "36 30 [0.3, 0.8, 0.6, 0.7, 0.4666666666666667, 0.5666666666666667, 0.7666666666666667] ([3], [1])\n",
      "37 18 [0.1111111111111111, 0.7222222222222222, 0.5555555555555556, 0.8333333333333334, 0.2222222222222222, 0.3888888888888889, 0.7222222222222222] ([3], [3])\n",
      "38 25 [0.44, 0.68, 0.68, 0.68, 0.48, 0.56, 0.52] ([3], [1])\n",
      "39 42 [0.16666666666666666, 0.6904761904761905, 0.5476190476190477, 0.6904761904761905, 0.35714285714285715, 0.47619047619047616, 0.40476190476190477] ([3], [1])\n",
      "40 25 [0.2, 0.56, 0.6, 0.48, 0.4, 0.52, 0.48] ([3], [2])\n",
      "41 20 [0.2, 0.7, 0.65, 0.6, 0.25, 0.4, 0.4] ([3], [1])\n",
      "42 30 [0.06666666666666667, 0.7, 0.4666666666666667, 0.5333333333333333, 0.23333333333333334, 0.36666666666666664, 0.23333333333333334] ([3], [1])\n",
      "43 7 [0.14285714285714285, 0.5714285714285714, 0.2857142857142857, 0.7142857142857143, 0.5714285714285714, 0.42857142857142855, 0.42857142857142855] ([3], [3])\n",
      "44 42 [0.11904761904761904, 0.7619047619047619, 0.5476190476190477, 0.6190476190476191, 0.40476190476190477, 0.40476190476190477, 0.40476190476190477] ([3], [1])\n",
      "45 11 [0.18181818181818182, 0.36363636363636365, 0.36363636363636365, 0.5454545454545454, 0.18181818181818182, 0.2727272727272727, 0.45454545454545453] ([3], [3])\n",
      "46 44 [0.22727272727272727, 0.7954545454545454, 0.7272727272727273, 0.7045454545454546, 0.6136363636363636, 0.5, 0.5681818181818182] ([3], [1])\n",
      "47 23 [0.17391304347826086, 0.5217391304347826, 0.43478260869565216, 0.5652173913043478, 0.391304347826087, 0.43478260869565216, 0.5217391304347826] ([3], [3])\n",
      "48 16 [0.25, 0.6875, 0.625, 0.6875, 0.3125, 0.4375, 0.6875] ([3], [1])\n",
      "49 20 [0.1, 0.8, 0.65, 0.75, 0.3, 0.5, 0.55] ([3], [1])\n",
      "11 50\n"
     ]
    }
   ],
   "source": [
    "matches, total = 0, 0\n",
    "viable_lidxs_by_test = {}\n",
    "for c in sorted(df[\"cluster\"].unique()):\n",
    "    subdf = test_df[test_df[\"cluster\"]==c]\n",
    "    srs = [subdf[f\"{MODE}_{llm}\"].mean() for llm in llms]\n",
    "    # viable_lidxs_by_test[c] = [llm2idx[llm] for llm in best_llm_set_majority_vote_for_cluster(subdf)]\n",
    "    viable_lidxs_by_test[c] = [lidx for lidx, sr in enumerate(srs) if sr>=TH]\n",
    "    if len(viable_lidxs_by_test[c]) == 0:\n",
    "        viable_lidxs_by_test[c] = [np.argmax(srs)]\n",
    "    print(c,len(subdf), srs, (viable_lidxs_by_train[c], viable_lidxs_by_test[c]))\n",
    "    if viable_lidxs_by_train[c] == viable_lidxs_by_test[c]:\n",
    "        matches += 1\n",
    "        # matches += len(subdf)\n",
    "    total += 1\n",
    "    # total += len(subdf)\n",
    "print(matches, total)"
   ]
  },
  {
   "cell_type": "code",
   "execution_count": 32,
   "metadata": {},
   "outputs": [
    {
     "name": "stdout",
     "output_type": "stream",
     "text": [
      "Upper Bound Q-Wise\t\t\t 0.8809704321455648 \tUsage: 0.14285714285714285\n",
      "Upper Bound Cluster-Wise\t\t 0.7354056103108415 \tUsage: 0.14285714285714285\n",
      "Predicted:  Cluster-Wise\t\t 0.6724791508718726 \tUsage: 0.14285714285714285\n",
      "Predicted: ['llama2-7b-lm']\t\t 0.22365428354814254 \tUsage: 0.14285714285714285\n",
      "Predicted: ['gemma-7b']\t\t 0.7126611068991661 \tUsage: 0.14285714285714285\n",
      "Predicted: ['mistral-7b-lm']\t\t 0.6050037907505686 \tUsage: 0.14285714285714285\n",
      "Predicted: ['metamath-7b']\t\t 0.6724791508718726 \tUsage: 0.14285714285714285\n",
      "Predicted: ['gemma-7b-it']\t\t 0.39727065959059893 \tUsage: 0.14285714285714285\n",
      "Predicted: ['llama2-13b-chat']\t\t 0.49052312357846856 \tUsage: 0.14285714285714285\n",
      "Predicted: ['mistral-7b-inst']\t\t 0.5360121304018196 \tUsage: 0.14285714285714285\n",
      "Predicted: ['llama2-7b-lm', 'gemma-7b']\t\t 0.645185746777862 \tUsage: 0.2857142857142857\n",
      "Predicted: ['llama2-7b-lm', 'mistral-7b-lm']\t\t 0.5109931766489765 \tUsage: 0.2857142857142857\n",
      "Predicted: ['llama2-7b-lm', 'metamath-7b']\t\t 0.6724791508718726 \tUsage: 0.2857142857142857\n",
      "Predicted: ['llama2-7b-lm', 'gemma-7b-it']\t\t 0.4025777103866566 \tUsage: 0.2857142857142857\n",
      "Predicted: ['llama2-7b-lm', 'llama2-13b-chat']\t\t 0.47308567096285065 \tUsage: 0.2857142857142857\n",
      "Predicted: ['llama2-7b-lm', 'mistral-7b-inst']\t\t 0.513267626990144 \tUsage: 0.2857142857142857\n",
      "Predicted: ['gemma-7b', 'mistral-7b-lm']\t\t 0.7308567096285065 \tUsage: 0.2857142857142857\n",
      "Predicted: ['gemma-7b', 'metamath-7b']\t\t 0.7445034116755117 \tUsage: 0.2857142857142857\n",
      "Predicted: ['gemma-7b', 'gemma-7b-it']\t\t 0.6724791508718726 \tUsage: 0.2857142857142857\n",
      "Predicted: ['gemma-7b', 'llama2-13b-chat']\t\t 0.6944655041698257 \tUsage: 0.2857142857142857\n",
      "Predicted: ['gemma-7b', 'mistral-7b-inst']\t\t 0.7558756633813495 \tUsage: 0.2857142857142857\n",
      "Predicted: ['mistral-7b-lm', 'metamath-7b']\t\t 0.7126611068991661 \tUsage: 0.2857142857142857\n",
      "Predicted: ['mistral-7b-lm', 'gemma-7b-it']\t\t 0.5815011372251706 \tUsage: 0.2857142857142857\n",
      "Predicted: ['mistral-7b-lm', 'llama2-13b-chat']\t\t 0.6285064442759667 \tUsage: 0.2857142857142857\n",
      "Predicted: ['mistral-7b-lm', 'mistral-7b-inst']\t\t 0.6588324488248674 \tUsage: 0.2857142857142857\n",
      "Predicted: ['metamath-7b', 'gemma-7b-it']\t\t 0.690674753601213 \tUsage: 0.2857142857142857\n",
      "Predicted: ['metamath-7b', 'llama2-13b-chat']\t\t 0.6982562547384382 \tUsage: 0.2857142857142857\n",
      "Predicted: ['metamath-7b', 'mistral-7b-inst']\t\t 0.7065959059893859 \tUsage: 0.2857142857142857\n",
      "Predicted: ['gemma-7b-it', 'llama2-13b-chat']\t\t 0.5094768764215315 \tUsage: 0.2857142857142857\n",
      "Predicted: ['gemma-7b-it', 'mistral-7b-inst']\t\t 0.5299469294920395 \tUsage: 0.2857142857142857\n",
      "Predicted: ['llama2-13b-chat', 'mistral-7b-inst']\t\t 0.5883244882486732 \tUsage: 0.2857142857142857\n",
      "Predicted: ['llama2-7b-lm', 'gemma-7b', 'mistral-7b-lm']\t\t 0.6770280515542078 \tUsage: 0.42857142857142855\n",
      "Predicted: ['llama2-7b-lm', 'gemma-7b', 'metamath-7b']\t\t 0.7323730098559514 \tUsage: 0.42857142857142855\n",
      "Predicted: ['llama2-7b-lm', 'gemma-7b', 'gemma-7b-it']\t\t 0.6307808946171342 \tUsage: 0.42857142857142855\n",
      "Predicted: ['llama2-7b-lm', 'gemma-7b', 'llama2-13b-chat']\t\t 0.6527672479150872 \tUsage: 0.42857142857142855\n",
      "Predicted: ['llama2-7b-lm', 'gemma-7b', 'mistral-7b-inst']\t\t 0.6967399545109931 \tUsage: 0.42857142857142855\n",
      "Predicted: ['llama2-7b-lm', 'mistral-7b-lm', 'metamath-7b']\t\t 0.6967399545109931 \tUsage: 0.42857142857142855\n",
      "Predicted: ['llama2-7b-lm', 'mistral-7b-lm', 'gemma-7b-it']\t\t 0.5390447308567097 \tUsage: 0.42857142857142855\n",
      "Predicted: ['llama2-7b-lm', 'mistral-7b-lm', 'llama2-13b-chat']\t\t 0.576194086429113 \tUsage: 0.42857142857142855\n",
      "Predicted: ['llama2-7b-lm', 'mistral-7b-lm', 'mistral-7b-inst']\t\t 0.6163760424564063 \tUsage: 0.42857142857142855\n",
      "Predicted: ['llama2-7b-lm', 'metamath-7b', 'gemma-7b-it']\t\t 0.6618650492797574 \tUsage: 0.42857142857142855\n",
      "Predicted: ['llama2-7b-lm', 'metamath-7b', 'llama2-13b-chat']\t\t 0.6899166034874905 \tUsage: 0.42857142857142855\n",
      "Predicted: ['llama2-7b-lm', 'metamath-7b', 'mistral-7b-inst']\t\t 0.7043214556482184 \tUsage: 0.42857142857142855\n",
      "Predicted: ['llama2-7b-lm', 'gemma-7b-it', 'llama2-13b-chat']\t\t 0.5072024260803639 \tUsage: 0.42857142857142855\n",
      "Predicted: ['llama2-7b-lm', 'gemma-7b-it', 'mistral-7b-inst']\t\t 0.535253980288097 \tUsage: 0.42857142857142855\n",
      "Predicted: ['llama2-7b-lm', 'llama2-13b-chat', 'mistral-7b-inst']\t\t 0.5739196360879454 \tUsage: 0.42857142857142855\n",
      "Predicted: ['gemma-7b', 'mistral-7b-lm', 'metamath-7b']\t\t 0.7664897649734648 \tUsage: 0.42857142857142855\n",
      "Predicted: ['gemma-7b', 'mistral-7b-lm', 'gemma-7b-it']\t\t 0.6990144048521607 \tUsage: 0.42857142857142855\n",
      "Predicted: ['gemma-7b', 'mistral-7b-lm', 'llama2-13b-chat']\t\t 0.7187263078089462 \tUsage: 0.42857142857142855\n",
      "Predicted: ['gemma-7b', 'mistral-7b-lm', 'mistral-7b-inst']\t\t 0.7467778620166793 \tUsage: 0.42857142857142855\n",
      "Predicted: ['gemma-7b', 'metamath-7b', 'gemma-7b-it']\t\t 0.7452615617892343 \tUsage: 0.42857142857142855\n",
      "Predicted: ['gemma-7b', 'metamath-7b', 'llama2-13b-chat']\t\t 0.756633813495072 \tUsage: 0.42857142857142855\n",
      "Predicted: ['gemma-7b', 'metamath-7b', 'mistral-7b-inst']\t\t 0.7695223654283548 \tUsage: 0.42857142857142855\n",
      "Predicted: ['gemma-7b', 'gemma-7b-it', 'llama2-13b-chat']\t\t 0.6724791508718726 \tUsage: 0.42857142857142855\n",
      "Predicted: ['gemma-7b', 'gemma-7b-it', 'mistral-7b-inst']\t\t 0.7005307050796058 \tUsage: 0.42857142857142855\n",
      "Predicted: ['gemma-7b', 'llama2-13b-chat', 'mistral-7b-inst']\t\t 0.7323730098559514 \tUsage: 0.42857142857142855\n",
      "Predicted: ['mistral-7b-lm', 'metamath-7b', 'gemma-7b-it']\t\t 0.7187263078089462 \tUsage: 0.42857142857142855\n",
      "Predicted: ['mistral-7b-lm', 'metamath-7b', 'llama2-13b-chat']\t\t 0.7232752084912812 \tUsage: 0.42857142857142855\n",
      "Predicted: ['mistral-7b-lm', 'metamath-7b', 'mistral-7b-inst']\t\t 0.7399545109931767 \tUsage: 0.42857142857142855\n",
      "Predicted: ['mistral-7b-lm', 'gemma-7b-it', 'llama2-13b-chat']\t\t 0.6057619408642911 \tUsage: 0.42857142857142855\n",
      "Predicted: ['mistral-7b-lm', 'gemma-7b-it', 'mistral-7b-inst']\t\t 0.6322971948445792 \tUsage: 0.42857142857142855\n",
      "Predicted: ['mistral-7b-lm', 'llama2-13b-chat', 'mistral-7b-inst']\t\t 0.6618650492797574 \tUsage: 0.42857142857142855\n",
      "Predicted: ['metamath-7b', 'gemma-7b-it', 'llama2-13b-chat']\t\t 0.6997725549658832 \tUsage: 0.42857142857142855\n",
      "Predicted: ['metamath-7b', 'gemma-7b-it', 'mistral-7b-inst']\t\t 0.7119029567854435 \tUsage: 0.42857142857142855\n",
      "Predicted: ['metamath-7b', 'llama2-13b-chat', 'mistral-7b-inst']\t\t 0.7285822592873389 \tUsage: 0.42857142857142855\n",
      "Predicted: ['gemma-7b-it', 'llama2-13b-chat', 'mistral-7b-inst']\t\t 0.5868081880212282 \tUsage: 0.42857142857142855\n",
      "Predicted: ['llama2-7b-lm', 'gemma-7b', 'mistral-7b-lm', 'metamath-7b']\t\t 0.7505686125852918 \tUsage: 0.5714285714285714\n",
      "Predicted: ['llama2-7b-lm', 'gemma-7b', 'mistral-7b-lm', 'gemma-7b-it']\t\t 0.6611068991660348 \tUsage: 0.5714285714285714\n",
      "Predicted: ['llama2-7b-lm', 'gemma-7b', 'mistral-7b-lm', 'llama2-13b-chat']\t\t 0.6808188021228203 \tUsage: 0.5714285714285714\n",
      "Predicted: ['llama2-7b-lm', 'gemma-7b', 'mistral-7b-lm', 'mistral-7b-inst']\t\t 0.7134192570128886 \tUsage: 0.5714285714285714\n",
      "Predicted: ['llama2-7b-lm', 'gemma-7b', 'metamath-7b', 'gemma-7b-it']\t\t 0.730098559514784 \tUsage: 0.5714285714285714\n",
      "Predicted: ['llama2-7b-lm', 'gemma-7b', 'metamath-7b', 'llama2-13b-chat']\t\t 0.7369219105382866 \tUsage: 0.5714285714285714\n",
      "Predicted: ['llama2-7b-lm', 'gemma-7b', 'metamath-7b', 'mistral-7b-inst']\t\t 0.7528430629264594 \tUsage: 0.5714285714285714\n",
      "Predicted: ['llama2-7b-lm', 'gemma-7b', 'gemma-7b-it', 'llama2-13b-chat']\t\t 0.6421531463229719 \tUsage: 0.5714285714285714\n",
      "Predicted: ['llama2-7b-lm', 'gemma-7b', 'gemma-7b-it', 'mistral-7b-inst']\t\t 0.6702047005307051 \tUsage: 0.5714285714285714\n",
      "Predicted: ['llama2-7b-lm', 'gemma-7b', 'llama2-13b-chat', 'mistral-7b-inst']\t\t 0.6929492039423806 \tUsage: 0.5714285714285714\n",
      "Predicted: ['llama2-7b-lm', 'mistral-7b-lm', 'metamath-7b', 'gemma-7b-it']\t\t 0.6997725549658832 \tUsage: 0.5714285714285714\n",
      "Predicted: ['llama2-7b-lm', 'mistral-7b-lm', 'metamath-7b', 'llama2-13b-chat']\t\t 0.7028051554207733 \tUsage: 0.5714285714285714\n",
      "Predicted: ['llama2-7b-lm', 'mistral-7b-lm', 'metamath-7b', 'mistral-7b-inst']\t\t 0.7210007581501138 \tUsage: 0.5714285714285714\n",
      "Predicted: ['llama2-7b-lm', 'mistral-7b-lm', 'gemma-7b-it', 'llama2-13b-chat']\t\t 0.5830174374526156 \tUsage: 0.5714285714285714\n",
      "Predicted: ['llama2-7b-lm', 'mistral-7b-lm', 'gemma-7b-it', 'mistral-7b-inst']\t\t 0.6004548900682335 \tUsage: 0.5714285714285714\n",
      "Predicted: ['llama2-7b-lm', 'mistral-7b-lm', 'llama2-13b-chat', 'mistral-7b-inst']\t\t 0.6360879454131918 \tUsage: 0.5714285714285714\n",
      "Predicted: ['llama2-7b-lm', 'metamath-7b', 'gemma-7b-it', 'llama2-13b-chat']\t\t 0.6793025018953753 \tUsage: 0.5714285714285714\n",
      "Predicted: ['llama2-7b-lm', 'metamath-7b', 'gemma-7b-it', 'mistral-7b-inst']\t\t 0.6952236542835482 \tUsage: 0.5714285714285714\n",
      "Predicted: ['llama2-7b-lm', 'metamath-7b', 'llama2-13b-chat', 'mistral-7b-inst']\t\t 0.711144806671721 \tUsage: 0.5714285714285714\n",
      "Predicted: ['llama2-7b-lm', 'gemma-7b-it', 'llama2-13b-chat', 'mistral-7b-inst']\t\t 0.574677786201668 \tUsage: 0.5714285714285714\n",
      "Predicted: ['gemma-7b', 'mistral-7b-lm', 'metamath-7b', 'gemma-7b-it']\t\t 0.7589082638362395 \tUsage: 0.5714285714285714\n",
      "Predicted: ['gemma-7b', 'mistral-7b-lm', 'metamath-7b', 'llama2-13b-chat']\t\t 0.7619408642911296 \tUsage: 0.5714285714285714\n",
      "Predicted: ['gemma-7b', 'mistral-7b-lm', 'metamath-7b', 'mistral-7b-inst']\t\t 0.7740712661106899 \tUsage: 0.5714285714285714\n",
      "Predicted: ['gemma-7b', 'mistral-7b-lm', 'gemma-7b-it', 'llama2-13b-chat']\t\t 0.6952236542835482 \tUsage: 0.5714285714285714\n",
      "Predicted: ['gemma-7b', 'mistral-7b-lm', 'gemma-7b-it', 'mistral-7b-inst']\t\t 0.7225170583775588 \tUsage: 0.5714285714285714\n",
      "Predicted: ['gemma-7b', 'mistral-7b-lm', 'llama2-13b-chat', 'mistral-7b-inst']\t\t 0.734647460197119 \tUsage: 0.5714285714285714\n",
      "Predicted: ['gemma-7b', 'metamath-7b', 'gemma-7b-it', 'llama2-13b-chat']\t\t 0.7460197119029568 \tUsage: 0.5714285714285714\n",
      "Predicted: ['gemma-7b', 'metamath-7b', 'gemma-7b-it', 'mistral-7b-inst']\t\t 0.759666413949962 \tUsage: 0.5714285714285714\n",
      "Predicted: ['gemma-7b', 'metamath-7b', 'llama2-13b-chat', 'mistral-7b-inst']\t\t 0.7702805155420773 \tUsage: 0.5714285714285714\n",
      "Predicted: ['gemma-7b', 'gemma-7b-it', 'llama2-13b-chat', 'mistral-7b-inst']\t\t 0.7028051554207733 \tUsage: 0.5714285714285714\n",
      "Predicted: ['mistral-7b-lm', 'metamath-7b', 'gemma-7b-it', 'llama2-13b-chat']\t\t 0.7187263078089462 \tUsage: 0.5714285714285714\n",
      "Predicted: ['mistral-7b-lm', 'metamath-7b', 'gemma-7b-it', 'mistral-7b-inst']\t\t 0.733131159969674 \tUsage: 0.5714285714285714\n",
      "Predicted: ['mistral-7b-lm', 'metamath-7b', 'llama2-13b-chat', 'mistral-7b-inst']\t\t 0.7361637604245641 \tUsage: 0.5714285714285714\n",
      "Predicted: ['mistral-7b-lm', 'gemma-7b-it', 'llama2-13b-chat', 'mistral-7b-inst']\t\t 0.6497346474601972 \tUsage: 0.5714285714285714\n",
      "Predicted: ['metamath-7b', 'gemma-7b-it', 'llama2-13b-chat', 'mistral-7b-inst']\t\t 0.7179681576952237 \tUsage: 0.5714285714285714\n",
      "Predicted: ['llama2-7b-lm', 'gemma-7b', 'mistral-7b-lm', 'metamath-7b', 'gemma-7b-it']\t\t 0.7414708112206216 \tUsage: 0.7142857142857143\n",
      "Predicted: ['llama2-7b-lm', 'gemma-7b', 'mistral-7b-lm', 'metamath-7b', 'llama2-13b-chat']\t\t 0.7429871114480667 \tUsage: 0.7142857142857143\n",
      "Predicted: ['llama2-7b-lm', 'gemma-7b', 'mistral-7b-lm', 'metamath-7b', 'mistral-7b-inst']\t\t 0.7634571645185747 \tUsage: 0.7142857142857143\n",
      "Predicted: ['llama2-7b-lm', 'gemma-7b', 'mistral-7b-lm', 'gemma-7b-it', 'llama2-13b-chat']\t\t 0.6648976497346475 \tUsage: 0.7142857142857143\n",
      "Predicted: ['llama2-7b-lm', 'gemma-7b', 'mistral-7b-lm', 'gemma-7b-it', 'mistral-7b-inst']\t\t 0.6952236542835482 \tUsage: 0.7142857142857143\n",
      "Predicted: ['llama2-7b-lm', 'gemma-7b', 'mistral-7b-lm', 'llama2-13b-chat', 'mistral-7b-inst']\t\t 0.7028051554207733 \tUsage: 0.7142857142857143\n",
      "Predicted: ['llama2-7b-lm', 'gemma-7b', 'metamath-7b', 'gemma-7b-it', 'llama2-13b-chat']\t\t 0.7323730098559514 \tUsage: 0.7142857142857143\n",
      "Predicted: ['llama2-7b-lm', 'gemma-7b', 'metamath-7b', 'gemma-7b-it', 'mistral-7b-inst']\t\t 0.7482941622441244 \tUsage: 0.7142857142857143\n",
      "Predicted: ['llama2-7b-lm', 'gemma-7b', 'metamath-7b', 'llama2-13b-chat', 'mistral-7b-inst']\t\t 0.7498104624715694 \tUsage: 0.7142857142857143\n",
      "Predicted: ['llama2-7b-lm', 'gemma-7b', 'gemma-7b-it', 'llama2-13b-chat', 'mistral-7b-inst']\t\t 0.6717210007581501 \tUsage: 0.7142857142857143\n",
      "Predicted: ['llama2-7b-lm', 'mistral-7b-lm', 'metamath-7b', 'gemma-7b-it', 'llama2-13b-chat']\t\t 0.7012888551933283 \tUsage: 0.7142857142857143\n",
      "Predicted: ['llama2-7b-lm', 'mistral-7b-lm', 'metamath-7b', 'gemma-7b-it', 'mistral-7b-inst']\t\t 0.7172100075815011 \tUsage: 0.7142857142857143\n",
      "Predicted: ['llama2-7b-lm', 'mistral-7b-lm', 'metamath-7b', 'llama2-13b-chat', 'mistral-7b-inst']\t\t 0.7179681576952237 \tUsage: 0.7142857142857143\n",
      "Predicted: ['llama2-7b-lm', 'mistral-7b-lm', 'gemma-7b-it', 'llama2-13b-chat', 'mistral-7b-inst']\t\t 0.6224412433661866 \tUsage: 0.7142857142857143\n",
      "Predicted: ['llama2-7b-lm', 'metamath-7b', 'gemma-7b-it', 'llama2-13b-chat', 'mistral-7b-inst']\t\t 0.7012888551933283 \tUsage: 0.7142857142857143\n",
      "Predicted: ['gemma-7b', 'mistral-7b-lm', 'metamath-7b', 'gemma-7b-it', 'llama2-13b-chat']\t\t 0.7505686125852918 \tUsage: 0.7142857142857143\n",
      "Predicted: ['gemma-7b', 'mistral-7b-lm', 'metamath-7b', 'gemma-7b-it', 'mistral-7b-inst']\t\t 0.7619408642911296 \tUsage: 0.7142857142857143\n",
      "Predicted: ['gemma-7b', 'mistral-7b-lm', 'metamath-7b', 'llama2-13b-chat', 'mistral-7b-inst']\t\t 0.7717968157695224 \tUsage: 0.7142857142857143\n",
      "Predicted: ['gemma-7b', 'mistral-7b-lm', 'gemma-7b-it', 'llama2-13b-chat', 'mistral-7b-inst']\t\t 0.7156937073540561 \tUsage: 0.7142857142857143\n",
      "Predicted: ['gemma-7b', 'metamath-7b', 'gemma-7b-it', 'llama2-13b-chat', 'mistral-7b-inst']\t\t 0.7589082638362395 \tUsage: 0.7142857142857143\n",
      "Predicted: ['mistral-7b-lm', 'metamath-7b', 'gemma-7b-it', 'llama2-13b-chat', 'mistral-7b-inst']\t\t 0.7323730098559514 \tUsage: 0.7142857142857143\n",
      "Predicted: ['llama2-7b-lm', 'gemma-7b', 'mistral-7b-lm', 'metamath-7b', 'gemma-7b-it', 'llama2-13b-chat']\t\t 0.7338893100833965 \tUsage: 0.8571428571428571\n",
      "Predicted: ['llama2-7b-lm', 'gemma-7b', 'mistral-7b-lm', 'metamath-7b', 'gemma-7b-it', 'mistral-7b-inst']\t\t 0.7573919636087946 \tUsage: 0.8571428571428571\n",
      "Predicted: ['llama2-7b-lm', 'gemma-7b', 'mistral-7b-lm', 'metamath-7b', 'llama2-13b-chat', 'mistral-7b-inst']\t\t 0.7505686125852918 \tUsage: 0.8571428571428571\n",
      "Predicted: ['llama2-7b-lm', 'gemma-7b', 'mistral-7b-lm', 'gemma-7b-it', 'llama2-13b-chat', 'mistral-7b-inst']\t\t 0.686125852918878 \tUsage: 0.8571428571428571\n",
      "Predicted: ['llama2-7b-lm', 'gemma-7b', 'metamath-7b', 'gemma-7b-it', 'llama2-13b-chat', 'mistral-7b-inst']\t\t 0.7414708112206216 \tUsage: 0.8571428571428571\n",
      "Predicted: ['llama2-7b-lm', 'mistral-7b-lm', 'metamath-7b', 'gemma-7b-it', 'llama2-13b-chat', 'mistral-7b-inst']\t\t 0.714177407126611 \tUsage: 0.8571428571428571\n",
      "Predicted: ['gemma-7b', 'mistral-7b-lm', 'metamath-7b', 'gemma-7b-it', 'llama2-13b-chat', 'mistral-7b-inst']\t\t 0.7558756633813495 \tUsage: 0.8571428571428571\n",
      "Predicted: ['llama2-7b-lm', 'gemma-7b', 'mistral-7b-lm', 'metamath-7b', 'gemma-7b-it', 'llama2-13b-chat', 'mistral-7b-inst']\t\t 0.7437452615617892 \tUsage: 1.0\n"
     ]
    }
   ],
   "source": [
    "def get_majority_vote(lst):\n",
    "    return Counter(lst).most_common(n=1)[0][0]\n",
    "\n",
    "print(\"Upper Bound Q-Wise\\t\\t\\t\",test_df[[f\"{MODE}_{llm}\" for llm in llms]].max(axis=1).mean(),f\"\\tUsage: {1/ len(llms)}\")\n",
    "\n",
    "test_auto_answers = test_df[[f\"auto_answers_{llm}\".removesuffix(\"_CHAT\") for llm in llms]].to_numpy()\n",
    "maj_list = []\n",
    "usage = []\n",
    "for taa, c, g in zip(test_auto_answers, test_df['cluster'], test_df[\"gold_answer\"]):\n",
    "    auto_ans_list = []\n",
    "    u = 0\n",
    "    for lidx, a in enumerate(taa):\n",
    "        if lidx in viable_lidxs_by_test[c]:\n",
    "            auto_ans_list.extend(a)\n",
    "            u += 1\n",
    "    usage.append(u)\n",
    "    maj_list.append(get_majority_vote(auto_ans_list) == g)\n",
    "mean_maj = np.mean(maj_list)\n",
    "usage = np.mean(usage) / len(llms)\n",
    "print(\"Upper Bound Cluster-Wise\\t\\t\",mean_maj,f\"\\tUsage: {usage}\")\n",
    "\n",
    "maj_list = []\n",
    "usage = []\n",
    "_MODE = \"maj\"\n",
    "for taa, c, g in zip(test_auto_answers, test_df['cluster'], test_df[\"gold_answer\"]):\n",
    "    auto_ans_list = []\n",
    "    u = 0\n",
    "    for lidx, a in enumerate(taa):\n",
    "        # if lidx in viable_lidxs_by_test[c]:\n",
    "        if lidx in viable_lidxs_by_train[c]:\n",
    "            auto_ans_list.extend(a)\n",
    "            u += 1\n",
    "    usage.append(u)\n",
    "    maj_list.append(get_majority_vote(auto_ans_list) == g)\n",
    "mean_maj = np.mean(maj_list)\n",
    "usage = np.mean(usage) / len(llms)\n",
    "print(\"Predicted:  Cluster-Wise\\t\\t\",mean_maj,f\"\\tUsage: {usage}\")\n",
    "\n",
    "# for lidx, llm in enumerate(llms):\n",
    "#     print(f\"Predicted:  Always {llm}\\t\",np.mean([row[lidx] for row in test_df[[f\"{_MODE}_{llm}\" for llm in llms]].to_numpy()]),f\"\\tUsage: {1/len(llms)}\")\n",
    "\n",
    "from itertools import chain, combinations\n",
    "def powerset(iterable):\n",
    "    s = list(iterable)\n",
    "    return chain.from_iterable(combinations(s, r) for r in range(len(s)+1))\n",
    "\n",
    "for lidx_set in powerset(range(len(llms))):\n",
    "    if len(lidx_set)==0:\n",
    "        continue\n",
    "    maj_list = []\n",
    "    usage = []\n",
    "    for taa, c, g in zip(test_auto_answers, test_df['cluster'], test_df[\"gold_answer\"]):\n",
    "        auto_ans_list = []\n",
    "        u = 0\n",
    "        for lidx, a in enumerate(taa):\n",
    "            if lidx in lidx_set:\n",
    "                auto_ans_list.extend(a)\n",
    "                u += 1\n",
    "        usage.append(u)\n",
    "        maj_list.append(get_majority_vote(auto_ans_list) == g)\n",
    "    mean_maj = np.mean(maj_list)\n",
    "    usage = np.mean(usage) / len(llms)\n",
    "    print(f\"Predicted: {[llms[lidx] for lidx in lidx_set]}\\t\\t\",mean_maj,f\"\\tUsage: {usage}\")"
   ]
  },
  {
   "cell_type": "markdown",
   "metadata": {},
   "source": [
    "### ITER"
   ]
  },
  {
   "cell_type": "code",
   "execution_count": null,
   "metadata": {},
   "outputs": [
    {
     "name": "stdout",
     "output_type": "stream",
     "text": [
      "0.0 0.7437452615617892 1.0\n",
      "0.02040816326530612 0.7437452615617892 1.0\n",
      "0.04081632653061224 0.7437452615617892 1.0\n",
      "0.061224489795918366 0.7437452615617892 1.0\n",
      "0.08163265306122448 0.7437452615617892 1.0\n",
      "0.1020408163265306 0.7437452615617892 1.0\n",
      "0.12244897959183673 0.7437452615617892 1.0\n",
      "0.14285714285714285 0.7437452615617892 0.9967507852269035\n",
      "0.16326530612244897 0.7445034116755117 0.9927434203400844\n",
      "0.18367346938775508 0.7452615617892343 0.9772554965883246\n",
      "0.2040816326530612 0.7475360121304018 0.9542943788584425\n",
      "0.22448979591836732 0.7482941622441244 0.9330661756742121\n",
      "0.24489795918367346 0.7505686125852918 0.9168201018087296\n",
      "0.26530612244897955 0.7536012130401819 0.8936423697606413\n",
      "0.2857142857142857 0.7543593631539045 0.8703563305534496\n",
      "0.3061224489795918 0.7581501137225171 0.8458789125961227\n",
      "0.32653061224489793 0.7604245640636846 0.8232427163435503\n",
      "0.3469387755102041 0.7611827141774071 0.7898841113397596\n",
      "0.36734693877551017 0.7619408642911296 0.7763457164518576\n",
      "0.3877551020408163 0.7664897649734648 0.7482941622441244\n",
      "0.4081632653061224 0.7672479150871873 0.7409292754251056\n",
      "0.42857142857142855 0.7672479150871873 0.7297736380374743\n",
      "0.44897959183673464 0.7687642153146323 0.6927325896241742\n",
      "0.4693877551020408 0.7664897649734648 0.6557998483699772\n",
      "0.4897959183673469 0.7619408642911296 0.6231993934799089\n",
      "0.5102040816326531 0.7634571645185747 0.5565904906314307\n",
      "0.5306122448979591 0.7649734647460197 0.5131593198310408\n",
      "0.5510204081632653 0.7626990144048522 0.48673237300985595\n",
      "0.5714285714285714 0.759666413949962 0.43615292970865377\n",
      "0.5918367346938775 0.7573919636087946 0.4066933824325788\n",
      "0.6122448979591836 0.755117513267627 0.36607819776887257\n",
      "0.6326530612244897 0.7490523123578469 0.3270876204917145\n",
      "0.6530612244897959 0.7429871114480667 0.3007689808296328\n",
      "0.673469387755102 0.7369219105382866 0.2771580201451316\n",
      "0.6938775510204082 0.7354056103108415 0.26578576843929386\n",
      "0.7142857142857142 0.730098559514784 0.2565796599155204\n",
      "0.7346938775510203 0.709628506444276 0.2181306184338785\n",
      "0.7551020408163265 0.6944655041698257 0.1832557132026427\n",
      "0.7755102040816326 0.6846095526914329 0.16646810354164412\n",
      "0.7959183673469387 0.6830932524639879 0.16300227445034118\n",
      "0.8163265306122448 0.6770280515542078 0.15542077331311602\n",
      "0.836734693877551 0.6762699014404853 0.15271309433553557\n",
      "0.8571428571428571 0.6747536012130402 0.14643127910754902\n",
      "0.8775510204081632 0.6724791508718726 0.14285714285714285\n",
      "0.8979591836734693 0.6724791508718726 0.14285714285714285\n",
      "0.9183673469387754 0.6724791508718726 0.14285714285714285\n",
      "0.9387755102040816 0.6724791508718726 0.14285714285714285\n",
      "0.9591836734693877 0.6724791508718726 0.14285714285714285\n",
      "0.9795918367346939 0.6724791508718726 0.14285714285714285\n",
      "1.0 0.6724791508718726 0.14285714285714285\n"
     ]
    }
   ],
   "source": [
    "from itertools import chain, combinations\n",
    "def powerset(iterable):\n",
    "    s = list(iterable)\n",
    "    return chain.from_iterable(combinations(s, r) for r in range(len(s)+1))\n",
    "\n",
    "# MODE = \"sr\"\n",
    "MODE = \"maj\"\n",
    "# TH = 0.5\n",
    "\n",
    "plotdf = []\n",
    "\n",
    "for TH in np.linspace(0,1,50):\n",
    "\n",
    "    viable_lidxs_by_train = {}\n",
    "    train_df, test_df = df[df[\"split\"]!=\"test\"], df[df[\"split\"]==\"test\"]\n",
    "    for c in sorted(df[\"cluster\"].unique()):\n",
    "        subdf = train_df[train_df[\"cluster\"]==c]\n",
    "        srs = [subdf[f\"{MODE}_{llm}\"].mean() for llm in llms]\n",
    "        viable_lidxs_by_train[c] = [lidx for lidx, sr in enumerate(srs) if sr>=TH]\n",
    "        if len(viable_lidxs_by_train[c]) == 0:\n",
    "            viable_lidxs_by_train[c] = [np.argmax(srs)]\n",
    "        # print(c,len(subdf), srs, viable_lidxs_by_train[c])\n",
    "\n",
    "    matches, total = 0, 0\n",
    "    viable_lidxs_by_test = {}\n",
    "    for c in sorted(df[\"cluster\"].unique()):\n",
    "        subdf = test_df[test_df[\"cluster\"]==c]\n",
    "        srs = [subdf[f\"{MODE}_{llm}\"].mean() for llm in llms]\n",
    "        viable_lidxs_by_test[c] = [lidx for lidx, sr in enumerate(srs) if sr>=TH]\n",
    "        if len(viable_lidxs_by_test[c]) == 0:\n",
    "            viable_lidxs_by_test[c] = [np.argmax(srs)]\n",
    "        # print(c,len(subdf), srs, (viable_lidxs_by_train[c], viable_lidxs_by_test[c]))\n",
    "            \n",
    "    def get_majority_vote(lst):\n",
    "        return Counter(lst).most_common(n=1)[0][0]\n",
    "\n",
    "    test_auto_answers = test_df[[f\"auto_answers_{llm}\".removesuffix(\"_CHAT\") for llm in llms]].to_numpy()\n",
    "\n",
    "    maj_list = []\n",
    "    usage = []\n",
    "    for taa, c, g in zip(test_auto_answers, test_df['cluster'], test_df[\"gold_answer\"]):\n",
    "        auto_ans_list = []\n",
    "        u = 0\n",
    "        for lidx, a in enumerate(taa):\n",
    "            if lidx in viable_lidxs_by_train[c]:\n",
    "                auto_ans_list.extend(a)\n",
    "                u += 1\n",
    "        usage.append(u)\n",
    "        maj_list.append(get_majority_vote(auto_ans_list) == g)\n",
    "    mean_maj = np.mean(maj_list)\n",
    "    usage = np.mean(usage) / len(llms)\n",
    "    \n",
    "    print(TH,mean_maj,usage)\n",
    "    plotdf.append({\n",
    "        \"threshold\": TH,\n",
    "        \"mean_maj\": mean_maj,\n",
    "        \"usage\": usage,\n",
    "    })"
   ]
  },
  {
   "cell_type": "code",
   "execution_count": null,
   "metadata": {},
   "outputs": [
    {
     "data": {
      "application/vnd.plotly.v1+json": {
       "config": {
        "plotlyServerURL": "https://plot.ly"
       },
       "data": [
        {
         "hovertemplate": "threshold=%{x}<br>mean_maj=%{y}<extra></extra>",
         "legendgroup": "",
         "line": {
          "color": "#636efa",
          "dash": "solid"
         },
         "marker": {
          "symbol": "circle"
         },
         "mode": "lines",
         "name": "",
         "orientation": "v",
         "showlegend": false,
         "type": "scatter",
         "x": [
          0,
          0.02040816326530612,
          0.04081632653061224,
          0.061224489795918366,
          0.08163265306122448,
          0.1020408163265306,
          0.12244897959183673,
          0.14285714285714285,
          0.16326530612244897,
          0.18367346938775508,
          0.2040816326530612,
          0.22448979591836732,
          0.24489795918367346,
          0.26530612244897955,
          0.2857142857142857,
          0.3061224489795918,
          0.32653061224489793,
          0.3469387755102041,
          0.36734693877551017,
          0.3877551020408163,
          0.4081632653061224,
          0.42857142857142855,
          0.44897959183673464,
          0.4693877551020408,
          0.4897959183673469,
          0.5102040816326531,
          0.5306122448979591,
          0.5510204081632653,
          0.5714285714285714,
          0.5918367346938775,
          0.6122448979591836,
          0.6326530612244897,
          0.6530612244897959,
          0.673469387755102,
          0.6938775510204082,
          0.7142857142857142,
          0.7346938775510203,
          0.7551020408163265,
          0.7755102040816326,
          0.7959183673469387,
          0.8163265306122448,
          0.836734693877551,
          0.8571428571428571,
          0.8775510204081632,
          0.8979591836734693,
          0.9183673469387754,
          0.9387755102040816,
          0.9591836734693877,
          0.9795918367346939,
          1
         ],
         "xaxis": "x",
         "y": [
          0.7437452615617892,
          0.7437452615617892,
          0.7437452615617892,
          0.7437452615617892,
          0.7437452615617892,
          0.7437452615617892,
          0.7437452615617892,
          0.7437452615617892,
          0.7445034116755117,
          0.7452615617892343,
          0.7475360121304018,
          0.7482941622441244,
          0.7505686125852918,
          0.7536012130401819,
          0.7543593631539045,
          0.7581501137225171,
          0.7604245640636846,
          0.7611827141774071,
          0.7619408642911296,
          0.7664897649734648,
          0.7672479150871873,
          0.7672479150871873,
          0.7687642153146323,
          0.7664897649734648,
          0.7619408642911296,
          0.7634571645185747,
          0.7649734647460197,
          0.7626990144048522,
          0.759666413949962,
          0.7573919636087946,
          0.755117513267627,
          0.7490523123578469,
          0.7429871114480667,
          0.7369219105382866,
          0.7354056103108415,
          0.730098559514784,
          0.709628506444276,
          0.6944655041698257,
          0.6846095526914329,
          0.6830932524639879,
          0.6770280515542078,
          0.6762699014404853,
          0.6747536012130402,
          0.6724791508718726,
          0.6724791508718726,
          0.6724791508718726,
          0.6724791508718726,
          0.6724791508718726,
          0.6724791508718726,
          0.6724791508718726
         ],
         "yaxis": "y"
        }
       ],
       "layout": {
        "legend": {
         "tracegroupgap": 0
        },
        "margin": {
         "t": 60
        },
        "template": {
         "data": {
          "bar": [
           {
            "error_x": {
             "color": "#2a3f5f"
            },
            "error_y": {
             "color": "#2a3f5f"
            },
            "marker": {
             "line": {
              "color": "#E5ECF6",
              "width": 0.5
             },
             "pattern": {
              "fillmode": "overlay",
              "size": 10,
              "solidity": 0.2
             }
            },
            "type": "bar"
           }
          ],
          "barpolar": [
           {
            "marker": {
             "line": {
              "color": "#E5ECF6",
              "width": 0.5
             },
             "pattern": {
              "fillmode": "overlay",
              "size": 10,
              "solidity": 0.2
             }
            },
            "type": "barpolar"
           }
          ],
          "carpet": [
           {
            "aaxis": {
             "endlinecolor": "#2a3f5f",
             "gridcolor": "white",
             "linecolor": "white",
             "minorgridcolor": "white",
             "startlinecolor": "#2a3f5f"
            },
            "baxis": {
             "endlinecolor": "#2a3f5f",
             "gridcolor": "white",
             "linecolor": "white",
             "minorgridcolor": "white",
             "startlinecolor": "#2a3f5f"
            },
            "type": "carpet"
           }
          ],
          "choropleth": [
           {
            "colorbar": {
             "outlinewidth": 0,
             "ticks": ""
            },
            "type": "choropleth"
           }
          ],
          "contour": [
           {
            "colorbar": {
             "outlinewidth": 0,
             "ticks": ""
            },
            "colorscale": [
             [
              0,
              "#0d0887"
             ],
             [
              0.1111111111111111,
              "#46039f"
             ],
             [
              0.2222222222222222,
              "#7201a8"
             ],
             [
              0.3333333333333333,
              "#9c179e"
             ],
             [
              0.4444444444444444,
              "#bd3786"
             ],
             [
              0.5555555555555556,
              "#d8576b"
             ],
             [
              0.6666666666666666,
              "#ed7953"
             ],
             [
              0.7777777777777778,
              "#fb9f3a"
             ],
             [
              0.8888888888888888,
              "#fdca26"
             ],
             [
              1,
              "#f0f921"
             ]
            ],
            "type": "contour"
           }
          ],
          "contourcarpet": [
           {
            "colorbar": {
             "outlinewidth": 0,
             "ticks": ""
            },
            "type": "contourcarpet"
           }
          ],
          "heatmap": [
           {
            "colorbar": {
             "outlinewidth": 0,
             "ticks": ""
            },
            "colorscale": [
             [
              0,
              "#0d0887"
             ],
             [
              0.1111111111111111,
              "#46039f"
             ],
             [
              0.2222222222222222,
              "#7201a8"
             ],
             [
              0.3333333333333333,
              "#9c179e"
             ],
             [
              0.4444444444444444,
              "#bd3786"
             ],
             [
              0.5555555555555556,
              "#d8576b"
             ],
             [
              0.6666666666666666,
              "#ed7953"
             ],
             [
              0.7777777777777778,
              "#fb9f3a"
             ],
             [
              0.8888888888888888,
              "#fdca26"
             ],
             [
              1,
              "#f0f921"
             ]
            ],
            "type": "heatmap"
           }
          ],
          "heatmapgl": [
           {
            "colorbar": {
             "outlinewidth": 0,
             "ticks": ""
            },
            "colorscale": [
             [
              0,
              "#0d0887"
             ],
             [
              0.1111111111111111,
              "#46039f"
             ],
             [
              0.2222222222222222,
              "#7201a8"
             ],
             [
              0.3333333333333333,
              "#9c179e"
             ],
             [
              0.4444444444444444,
              "#bd3786"
             ],
             [
              0.5555555555555556,
              "#d8576b"
             ],
             [
              0.6666666666666666,
              "#ed7953"
             ],
             [
              0.7777777777777778,
              "#fb9f3a"
             ],
             [
              0.8888888888888888,
              "#fdca26"
             ],
             [
              1,
              "#f0f921"
             ]
            ],
            "type": "heatmapgl"
           }
          ],
          "histogram": [
           {
            "marker": {
             "pattern": {
              "fillmode": "overlay",
              "size": 10,
              "solidity": 0.2
             }
            },
            "type": "histogram"
           }
          ],
          "histogram2d": [
           {
            "colorbar": {
             "outlinewidth": 0,
             "ticks": ""
            },
            "colorscale": [
             [
              0,
              "#0d0887"
             ],
             [
              0.1111111111111111,
              "#46039f"
             ],
             [
              0.2222222222222222,
              "#7201a8"
             ],
             [
              0.3333333333333333,
              "#9c179e"
             ],
             [
              0.4444444444444444,
              "#bd3786"
             ],
             [
              0.5555555555555556,
              "#d8576b"
             ],
             [
              0.6666666666666666,
              "#ed7953"
             ],
             [
              0.7777777777777778,
              "#fb9f3a"
             ],
             [
              0.8888888888888888,
              "#fdca26"
             ],
             [
              1,
              "#f0f921"
             ]
            ],
            "type": "histogram2d"
           }
          ],
          "histogram2dcontour": [
           {
            "colorbar": {
             "outlinewidth": 0,
             "ticks": ""
            },
            "colorscale": [
             [
              0,
              "#0d0887"
             ],
             [
              0.1111111111111111,
              "#46039f"
             ],
             [
              0.2222222222222222,
              "#7201a8"
             ],
             [
              0.3333333333333333,
              "#9c179e"
             ],
             [
              0.4444444444444444,
              "#bd3786"
             ],
             [
              0.5555555555555556,
              "#d8576b"
             ],
             [
              0.6666666666666666,
              "#ed7953"
             ],
             [
              0.7777777777777778,
              "#fb9f3a"
             ],
             [
              0.8888888888888888,
              "#fdca26"
             ],
             [
              1,
              "#f0f921"
             ]
            ],
            "type": "histogram2dcontour"
           }
          ],
          "mesh3d": [
           {
            "colorbar": {
             "outlinewidth": 0,
             "ticks": ""
            },
            "type": "mesh3d"
           }
          ],
          "parcoords": [
           {
            "line": {
             "colorbar": {
              "outlinewidth": 0,
              "ticks": ""
             }
            },
            "type": "parcoords"
           }
          ],
          "pie": [
           {
            "automargin": true,
            "type": "pie"
           }
          ],
          "scatter": [
           {
            "fillpattern": {
             "fillmode": "overlay",
             "size": 10,
             "solidity": 0.2
            },
            "type": "scatter"
           }
          ],
          "scatter3d": [
           {
            "line": {
             "colorbar": {
              "outlinewidth": 0,
              "ticks": ""
             }
            },
            "marker": {
             "colorbar": {
              "outlinewidth": 0,
              "ticks": ""
             }
            },
            "type": "scatter3d"
           }
          ],
          "scattercarpet": [
           {
            "marker": {
             "colorbar": {
              "outlinewidth": 0,
              "ticks": ""
             }
            },
            "type": "scattercarpet"
           }
          ],
          "scattergeo": [
           {
            "marker": {
             "colorbar": {
              "outlinewidth": 0,
              "ticks": ""
             }
            },
            "type": "scattergeo"
           }
          ],
          "scattergl": [
           {
            "marker": {
             "colorbar": {
              "outlinewidth": 0,
              "ticks": ""
             }
            },
            "type": "scattergl"
           }
          ],
          "scattermapbox": [
           {
            "marker": {
             "colorbar": {
              "outlinewidth": 0,
              "ticks": ""
             }
            },
            "type": "scattermapbox"
           }
          ],
          "scatterpolar": [
           {
            "marker": {
             "colorbar": {
              "outlinewidth": 0,
              "ticks": ""
             }
            },
            "type": "scatterpolar"
           }
          ],
          "scatterpolargl": [
           {
            "marker": {
             "colorbar": {
              "outlinewidth": 0,
              "ticks": ""
             }
            },
            "type": "scatterpolargl"
           }
          ],
          "scatterternary": [
           {
            "marker": {
             "colorbar": {
              "outlinewidth": 0,
              "ticks": ""
             }
            },
            "type": "scatterternary"
           }
          ],
          "surface": [
           {
            "colorbar": {
             "outlinewidth": 0,
             "ticks": ""
            },
            "colorscale": [
             [
              0,
              "#0d0887"
             ],
             [
              0.1111111111111111,
              "#46039f"
             ],
             [
              0.2222222222222222,
              "#7201a8"
             ],
             [
              0.3333333333333333,
              "#9c179e"
             ],
             [
              0.4444444444444444,
              "#bd3786"
             ],
             [
              0.5555555555555556,
              "#d8576b"
             ],
             [
              0.6666666666666666,
              "#ed7953"
             ],
             [
              0.7777777777777778,
              "#fb9f3a"
             ],
             [
              0.8888888888888888,
              "#fdca26"
             ],
             [
              1,
              "#f0f921"
             ]
            ],
            "type": "surface"
           }
          ],
          "table": [
           {
            "cells": {
             "fill": {
              "color": "#EBF0F8"
             },
             "line": {
              "color": "white"
             }
            },
            "header": {
             "fill": {
              "color": "#C8D4E3"
             },
             "line": {
              "color": "white"
             }
            },
            "type": "table"
           }
          ]
         },
         "layout": {
          "annotationdefaults": {
           "arrowcolor": "#2a3f5f",
           "arrowhead": 0,
           "arrowwidth": 1
          },
          "autotypenumbers": "strict",
          "coloraxis": {
           "colorbar": {
            "outlinewidth": 0,
            "ticks": ""
           }
          },
          "colorscale": {
           "diverging": [
            [
             0,
             "#8e0152"
            ],
            [
             0.1,
             "#c51b7d"
            ],
            [
             0.2,
             "#de77ae"
            ],
            [
             0.3,
             "#f1b6da"
            ],
            [
             0.4,
             "#fde0ef"
            ],
            [
             0.5,
             "#f7f7f7"
            ],
            [
             0.6,
             "#e6f5d0"
            ],
            [
             0.7,
             "#b8e186"
            ],
            [
             0.8,
             "#7fbc41"
            ],
            [
             0.9,
             "#4d9221"
            ],
            [
             1,
             "#276419"
            ]
           ],
           "sequential": [
            [
             0,
             "#0d0887"
            ],
            [
             0.1111111111111111,
             "#46039f"
            ],
            [
             0.2222222222222222,
             "#7201a8"
            ],
            [
             0.3333333333333333,
             "#9c179e"
            ],
            [
             0.4444444444444444,
             "#bd3786"
            ],
            [
             0.5555555555555556,
             "#d8576b"
            ],
            [
             0.6666666666666666,
             "#ed7953"
            ],
            [
             0.7777777777777778,
             "#fb9f3a"
            ],
            [
             0.8888888888888888,
             "#fdca26"
            ],
            [
             1,
             "#f0f921"
            ]
           ],
           "sequentialminus": [
            [
             0,
             "#0d0887"
            ],
            [
             0.1111111111111111,
             "#46039f"
            ],
            [
             0.2222222222222222,
             "#7201a8"
            ],
            [
             0.3333333333333333,
             "#9c179e"
            ],
            [
             0.4444444444444444,
             "#bd3786"
            ],
            [
             0.5555555555555556,
             "#d8576b"
            ],
            [
             0.6666666666666666,
             "#ed7953"
            ],
            [
             0.7777777777777778,
             "#fb9f3a"
            ],
            [
             0.8888888888888888,
             "#fdca26"
            ],
            [
             1,
             "#f0f921"
            ]
           ]
          },
          "colorway": [
           "#636efa",
           "#EF553B",
           "#00cc96",
           "#ab63fa",
           "#FFA15A",
           "#19d3f3",
           "#FF6692",
           "#B6E880",
           "#FF97FF",
           "#FECB52"
          ],
          "font": {
           "color": "#2a3f5f"
          },
          "geo": {
           "bgcolor": "white",
           "lakecolor": "white",
           "landcolor": "#E5ECF6",
           "showlakes": true,
           "showland": true,
           "subunitcolor": "white"
          },
          "hoverlabel": {
           "align": "left"
          },
          "hovermode": "closest",
          "mapbox": {
           "style": "light"
          },
          "paper_bgcolor": "white",
          "plot_bgcolor": "#E5ECF6",
          "polar": {
           "angularaxis": {
            "gridcolor": "white",
            "linecolor": "white",
            "ticks": ""
           },
           "bgcolor": "#E5ECF6",
           "radialaxis": {
            "gridcolor": "white",
            "linecolor": "white",
            "ticks": ""
           }
          },
          "scene": {
           "xaxis": {
            "backgroundcolor": "#E5ECF6",
            "gridcolor": "white",
            "gridwidth": 2,
            "linecolor": "white",
            "showbackground": true,
            "ticks": "",
            "zerolinecolor": "white"
           },
           "yaxis": {
            "backgroundcolor": "#E5ECF6",
            "gridcolor": "white",
            "gridwidth": 2,
            "linecolor": "white",
            "showbackground": true,
            "ticks": "",
            "zerolinecolor": "white"
           },
           "zaxis": {
            "backgroundcolor": "#E5ECF6",
            "gridcolor": "white",
            "gridwidth": 2,
            "linecolor": "white",
            "showbackground": true,
            "ticks": "",
            "zerolinecolor": "white"
           }
          },
          "shapedefaults": {
           "line": {
            "color": "#2a3f5f"
           }
          },
          "ternary": {
           "aaxis": {
            "gridcolor": "white",
            "linecolor": "white",
            "ticks": ""
           },
           "baxis": {
            "gridcolor": "white",
            "linecolor": "white",
            "ticks": ""
           },
           "bgcolor": "#E5ECF6",
           "caxis": {
            "gridcolor": "white",
            "linecolor": "white",
            "ticks": ""
           }
          },
          "title": {
           "x": 0.05
          },
          "xaxis": {
           "automargin": true,
           "gridcolor": "white",
           "linecolor": "white",
           "ticks": "",
           "title": {
            "standoff": 15
           },
           "zerolinecolor": "white",
           "zerolinewidth": 2
          },
          "yaxis": {
           "automargin": true,
           "gridcolor": "white",
           "linecolor": "white",
           "ticks": "",
           "title": {
            "standoff": 15
           },
           "zerolinecolor": "white",
           "zerolinewidth": 2
          }
         }
        },
        "xaxis": {
         "anchor": "y",
         "domain": [
          0,
          1
         ],
         "title": {
          "text": "threshold"
         }
        },
        "yaxis": {
         "anchor": "x",
         "domain": [
          0,
          1
         ],
         "title": {
          "text": "mean_maj"
         }
        }
       }
      }
     },
     "metadata": {},
     "output_type": "display_data"
    },
    {
     "data": {
      "application/vnd.plotly.v1+json": {
       "config": {
        "plotlyServerURL": "https://plot.ly"
       },
       "data": [
        {
         "hovertemplate": "threshold=%{x}<br>usage=%{y}<extra></extra>",
         "legendgroup": "",
         "line": {
          "color": "#636efa",
          "dash": "solid"
         },
         "marker": {
          "symbol": "circle"
         },
         "mode": "lines",
         "name": "",
         "orientation": "v",
         "showlegend": false,
         "type": "scatter",
         "x": [
          0,
          0.02040816326530612,
          0.04081632653061224,
          0.061224489795918366,
          0.08163265306122448,
          0.1020408163265306,
          0.12244897959183673,
          0.14285714285714285,
          0.16326530612244897,
          0.18367346938775508,
          0.2040816326530612,
          0.22448979591836732,
          0.24489795918367346,
          0.26530612244897955,
          0.2857142857142857,
          0.3061224489795918,
          0.32653061224489793,
          0.3469387755102041,
          0.36734693877551017,
          0.3877551020408163,
          0.4081632653061224,
          0.42857142857142855,
          0.44897959183673464,
          0.4693877551020408,
          0.4897959183673469,
          0.5102040816326531,
          0.5306122448979591,
          0.5510204081632653,
          0.5714285714285714,
          0.5918367346938775,
          0.6122448979591836,
          0.6326530612244897,
          0.6530612244897959,
          0.673469387755102,
          0.6938775510204082,
          0.7142857142857142,
          0.7346938775510203,
          0.7551020408163265,
          0.7755102040816326,
          0.7959183673469387,
          0.8163265306122448,
          0.836734693877551,
          0.8571428571428571,
          0.8775510204081632,
          0.8979591836734693,
          0.9183673469387754,
          0.9387755102040816,
          0.9591836734693877,
          0.9795918367346939,
          1
         ],
         "xaxis": "x",
         "y": [
          1,
          1,
          1,
          1,
          1,
          1,
          1,
          0.9967507852269035,
          0.9927434203400844,
          0.9772554965883246,
          0.9542943788584425,
          0.9330661756742121,
          0.9168201018087296,
          0.8936423697606413,
          0.8703563305534496,
          0.8458789125961227,
          0.8232427163435503,
          0.7898841113397596,
          0.7763457164518576,
          0.7482941622441244,
          0.7409292754251056,
          0.7297736380374743,
          0.6927325896241742,
          0.6557998483699772,
          0.6231993934799089,
          0.5565904906314307,
          0.5131593198310408,
          0.48673237300985595,
          0.43615292970865377,
          0.4066933824325788,
          0.36607819776887257,
          0.3270876204917145,
          0.3007689808296328,
          0.2771580201451316,
          0.26578576843929386,
          0.2565796599155204,
          0.2181306184338785,
          0.1832557132026427,
          0.16646810354164412,
          0.16300227445034118,
          0.15542077331311602,
          0.15271309433553557,
          0.14643127910754902,
          0.14285714285714285,
          0.14285714285714285,
          0.14285714285714285,
          0.14285714285714285,
          0.14285714285714285,
          0.14285714285714285,
          0.14285714285714285
         ],
         "yaxis": "y"
        }
       ],
       "layout": {
        "legend": {
         "tracegroupgap": 0
        },
        "margin": {
         "t": 60
        },
        "template": {
         "data": {
          "bar": [
           {
            "error_x": {
             "color": "#2a3f5f"
            },
            "error_y": {
             "color": "#2a3f5f"
            },
            "marker": {
             "line": {
              "color": "#E5ECF6",
              "width": 0.5
             },
             "pattern": {
              "fillmode": "overlay",
              "size": 10,
              "solidity": 0.2
             }
            },
            "type": "bar"
           }
          ],
          "barpolar": [
           {
            "marker": {
             "line": {
              "color": "#E5ECF6",
              "width": 0.5
             },
             "pattern": {
              "fillmode": "overlay",
              "size": 10,
              "solidity": 0.2
             }
            },
            "type": "barpolar"
           }
          ],
          "carpet": [
           {
            "aaxis": {
             "endlinecolor": "#2a3f5f",
             "gridcolor": "white",
             "linecolor": "white",
             "minorgridcolor": "white",
             "startlinecolor": "#2a3f5f"
            },
            "baxis": {
             "endlinecolor": "#2a3f5f",
             "gridcolor": "white",
             "linecolor": "white",
             "minorgridcolor": "white",
             "startlinecolor": "#2a3f5f"
            },
            "type": "carpet"
           }
          ],
          "choropleth": [
           {
            "colorbar": {
             "outlinewidth": 0,
             "ticks": ""
            },
            "type": "choropleth"
           }
          ],
          "contour": [
           {
            "colorbar": {
             "outlinewidth": 0,
             "ticks": ""
            },
            "colorscale": [
             [
              0,
              "#0d0887"
             ],
             [
              0.1111111111111111,
              "#46039f"
             ],
             [
              0.2222222222222222,
              "#7201a8"
             ],
             [
              0.3333333333333333,
              "#9c179e"
             ],
             [
              0.4444444444444444,
              "#bd3786"
             ],
             [
              0.5555555555555556,
              "#d8576b"
             ],
             [
              0.6666666666666666,
              "#ed7953"
             ],
             [
              0.7777777777777778,
              "#fb9f3a"
             ],
             [
              0.8888888888888888,
              "#fdca26"
             ],
             [
              1,
              "#f0f921"
             ]
            ],
            "type": "contour"
           }
          ],
          "contourcarpet": [
           {
            "colorbar": {
             "outlinewidth": 0,
             "ticks": ""
            },
            "type": "contourcarpet"
           }
          ],
          "heatmap": [
           {
            "colorbar": {
             "outlinewidth": 0,
             "ticks": ""
            },
            "colorscale": [
             [
              0,
              "#0d0887"
             ],
             [
              0.1111111111111111,
              "#46039f"
             ],
             [
              0.2222222222222222,
              "#7201a8"
             ],
             [
              0.3333333333333333,
              "#9c179e"
             ],
             [
              0.4444444444444444,
              "#bd3786"
             ],
             [
              0.5555555555555556,
              "#d8576b"
             ],
             [
              0.6666666666666666,
              "#ed7953"
             ],
             [
              0.7777777777777778,
              "#fb9f3a"
             ],
             [
              0.8888888888888888,
              "#fdca26"
             ],
             [
              1,
              "#f0f921"
             ]
            ],
            "type": "heatmap"
           }
          ],
          "heatmapgl": [
           {
            "colorbar": {
             "outlinewidth": 0,
             "ticks": ""
            },
            "colorscale": [
             [
              0,
              "#0d0887"
             ],
             [
              0.1111111111111111,
              "#46039f"
             ],
             [
              0.2222222222222222,
              "#7201a8"
             ],
             [
              0.3333333333333333,
              "#9c179e"
             ],
             [
              0.4444444444444444,
              "#bd3786"
             ],
             [
              0.5555555555555556,
              "#d8576b"
             ],
             [
              0.6666666666666666,
              "#ed7953"
             ],
             [
              0.7777777777777778,
              "#fb9f3a"
             ],
             [
              0.8888888888888888,
              "#fdca26"
             ],
             [
              1,
              "#f0f921"
             ]
            ],
            "type": "heatmapgl"
           }
          ],
          "histogram": [
           {
            "marker": {
             "pattern": {
              "fillmode": "overlay",
              "size": 10,
              "solidity": 0.2
             }
            },
            "type": "histogram"
           }
          ],
          "histogram2d": [
           {
            "colorbar": {
             "outlinewidth": 0,
             "ticks": ""
            },
            "colorscale": [
             [
              0,
              "#0d0887"
             ],
             [
              0.1111111111111111,
              "#46039f"
             ],
             [
              0.2222222222222222,
              "#7201a8"
             ],
             [
              0.3333333333333333,
              "#9c179e"
             ],
             [
              0.4444444444444444,
              "#bd3786"
             ],
             [
              0.5555555555555556,
              "#d8576b"
             ],
             [
              0.6666666666666666,
              "#ed7953"
             ],
             [
              0.7777777777777778,
              "#fb9f3a"
             ],
             [
              0.8888888888888888,
              "#fdca26"
             ],
             [
              1,
              "#f0f921"
             ]
            ],
            "type": "histogram2d"
           }
          ],
          "histogram2dcontour": [
           {
            "colorbar": {
             "outlinewidth": 0,
             "ticks": ""
            },
            "colorscale": [
             [
              0,
              "#0d0887"
             ],
             [
              0.1111111111111111,
              "#46039f"
             ],
             [
              0.2222222222222222,
              "#7201a8"
             ],
             [
              0.3333333333333333,
              "#9c179e"
             ],
             [
              0.4444444444444444,
              "#bd3786"
             ],
             [
              0.5555555555555556,
              "#d8576b"
             ],
             [
              0.6666666666666666,
              "#ed7953"
             ],
             [
              0.7777777777777778,
              "#fb9f3a"
             ],
             [
              0.8888888888888888,
              "#fdca26"
             ],
             [
              1,
              "#f0f921"
             ]
            ],
            "type": "histogram2dcontour"
           }
          ],
          "mesh3d": [
           {
            "colorbar": {
             "outlinewidth": 0,
             "ticks": ""
            },
            "type": "mesh3d"
           }
          ],
          "parcoords": [
           {
            "line": {
             "colorbar": {
              "outlinewidth": 0,
              "ticks": ""
             }
            },
            "type": "parcoords"
           }
          ],
          "pie": [
           {
            "automargin": true,
            "type": "pie"
           }
          ],
          "scatter": [
           {
            "fillpattern": {
             "fillmode": "overlay",
             "size": 10,
             "solidity": 0.2
            },
            "type": "scatter"
           }
          ],
          "scatter3d": [
           {
            "line": {
             "colorbar": {
              "outlinewidth": 0,
              "ticks": ""
             }
            },
            "marker": {
             "colorbar": {
              "outlinewidth": 0,
              "ticks": ""
             }
            },
            "type": "scatter3d"
           }
          ],
          "scattercarpet": [
           {
            "marker": {
             "colorbar": {
              "outlinewidth": 0,
              "ticks": ""
             }
            },
            "type": "scattercarpet"
           }
          ],
          "scattergeo": [
           {
            "marker": {
             "colorbar": {
              "outlinewidth": 0,
              "ticks": ""
             }
            },
            "type": "scattergeo"
           }
          ],
          "scattergl": [
           {
            "marker": {
             "colorbar": {
              "outlinewidth": 0,
              "ticks": ""
             }
            },
            "type": "scattergl"
           }
          ],
          "scattermapbox": [
           {
            "marker": {
             "colorbar": {
              "outlinewidth": 0,
              "ticks": ""
             }
            },
            "type": "scattermapbox"
           }
          ],
          "scatterpolar": [
           {
            "marker": {
             "colorbar": {
              "outlinewidth": 0,
              "ticks": ""
             }
            },
            "type": "scatterpolar"
           }
          ],
          "scatterpolargl": [
           {
            "marker": {
             "colorbar": {
              "outlinewidth": 0,
              "ticks": ""
             }
            },
            "type": "scatterpolargl"
           }
          ],
          "scatterternary": [
           {
            "marker": {
             "colorbar": {
              "outlinewidth": 0,
              "ticks": ""
             }
            },
            "type": "scatterternary"
           }
          ],
          "surface": [
           {
            "colorbar": {
             "outlinewidth": 0,
             "ticks": ""
            },
            "colorscale": [
             [
              0,
              "#0d0887"
             ],
             [
              0.1111111111111111,
              "#46039f"
             ],
             [
              0.2222222222222222,
              "#7201a8"
             ],
             [
              0.3333333333333333,
              "#9c179e"
             ],
             [
              0.4444444444444444,
              "#bd3786"
             ],
             [
              0.5555555555555556,
              "#d8576b"
             ],
             [
              0.6666666666666666,
              "#ed7953"
             ],
             [
              0.7777777777777778,
              "#fb9f3a"
             ],
             [
              0.8888888888888888,
              "#fdca26"
             ],
             [
              1,
              "#f0f921"
             ]
            ],
            "type": "surface"
           }
          ],
          "table": [
           {
            "cells": {
             "fill": {
              "color": "#EBF0F8"
             },
             "line": {
              "color": "white"
             }
            },
            "header": {
             "fill": {
              "color": "#C8D4E3"
             },
             "line": {
              "color": "white"
             }
            },
            "type": "table"
           }
          ]
         },
         "layout": {
          "annotationdefaults": {
           "arrowcolor": "#2a3f5f",
           "arrowhead": 0,
           "arrowwidth": 1
          },
          "autotypenumbers": "strict",
          "coloraxis": {
           "colorbar": {
            "outlinewidth": 0,
            "ticks": ""
           }
          },
          "colorscale": {
           "diverging": [
            [
             0,
             "#8e0152"
            ],
            [
             0.1,
             "#c51b7d"
            ],
            [
             0.2,
             "#de77ae"
            ],
            [
             0.3,
             "#f1b6da"
            ],
            [
             0.4,
             "#fde0ef"
            ],
            [
             0.5,
             "#f7f7f7"
            ],
            [
             0.6,
             "#e6f5d0"
            ],
            [
             0.7,
             "#b8e186"
            ],
            [
             0.8,
             "#7fbc41"
            ],
            [
             0.9,
             "#4d9221"
            ],
            [
             1,
             "#276419"
            ]
           ],
           "sequential": [
            [
             0,
             "#0d0887"
            ],
            [
             0.1111111111111111,
             "#46039f"
            ],
            [
             0.2222222222222222,
             "#7201a8"
            ],
            [
             0.3333333333333333,
             "#9c179e"
            ],
            [
             0.4444444444444444,
             "#bd3786"
            ],
            [
             0.5555555555555556,
             "#d8576b"
            ],
            [
             0.6666666666666666,
             "#ed7953"
            ],
            [
             0.7777777777777778,
             "#fb9f3a"
            ],
            [
             0.8888888888888888,
             "#fdca26"
            ],
            [
             1,
             "#f0f921"
            ]
           ],
           "sequentialminus": [
            [
             0,
             "#0d0887"
            ],
            [
             0.1111111111111111,
             "#46039f"
            ],
            [
             0.2222222222222222,
             "#7201a8"
            ],
            [
             0.3333333333333333,
             "#9c179e"
            ],
            [
             0.4444444444444444,
             "#bd3786"
            ],
            [
             0.5555555555555556,
             "#d8576b"
            ],
            [
             0.6666666666666666,
             "#ed7953"
            ],
            [
             0.7777777777777778,
             "#fb9f3a"
            ],
            [
             0.8888888888888888,
             "#fdca26"
            ],
            [
             1,
             "#f0f921"
            ]
           ]
          },
          "colorway": [
           "#636efa",
           "#EF553B",
           "#00cc96",
           "#ab63fa",
           "#FFA15A",
           "#19d3f3",
           "#FF6692",
           "#B6E880",
           "#FF97FF",
           "#FECB52"
          ],
          "font": {
           "color": "#2a3f5f"
          },
          "geo": {
           "bgcolor": "white",
           "lakecolor": "white",
           "landcolor": "#E5ECF6",
           "showlakes": true,
           "showland": true,
           "subunitcolor": "white"
          },
          "hoverlabel": {
           "align": "left"
          },
          "hovermode": "closest",
          "mapbox": {
           "style": "light"
          },
          "paper_bgcolor": "white",
          "plot_bgcolor": "#E5ECF6",
          "polar": {
           "angularaxis": {
            "gridcolor": "white",
            "linecolor": "white",
            "ticks": ""
           },
           "bgcolor": "#E5ECF6",
           "radialaxis": {
            "gridcolor": "white",
            "linecolor": "white",
            "ticks": ""
           }
          },
          "scene": {
           "xaxis": {
            "backgroundcolor": "#E5ECF6",
            "gridcolor": "white",
            "gridwidth": 2,
            "linecolor": "white",
            "showbackground": true,
            "ticks": "",
            "zerolinecolor": "white"
           },
           "yaxis": {
            "backgroundcolor": "#E5ECF6",
            "gridcolor": "white",
            "gridwidth": 2,
            "linecolor": "white",
            "showbackground": true,
            "ticks": "",
            "zerolinecolor": "white"
           },
           "zaxis": {
            "backgroundcolor": "#E5ECF6",
            "gridcolor": "white",
            "gridwidth": 2,
            "linecolor": "white",
            "showbackground": true,
            "ticks": "",
            "zerolinecolor": "white"
           }
          },
          "shapedefaults": {
           "line": {
            "color": "#2a3f5f"
           }
          },
          "ternary": {
           "aaxis": {
            "gridcolor": "white",
            "linecolor": "white",
            "ticks": ""
           },
           "baxis": {
            "gridcolor": "white",
            "linecolor": "white",
            "ticks": ""
           },
           "bgcolor": "#E5ECF6",
           "caxis": {
            "gridcolor": "white",
            "linecolor": "white",
            "ticks": ""
           }
          },
          "title": {
           "x": 0.05
          },
          "xaxis": {
           "automargin": true,
           "gridcolor": "white",
           "linecolor": "white",
           "ticks": "",
           "title": {
            "standoff": 15
           },
           "zerolinecolor": "white",
           "zerolinewidth": 2
          },
          "yaxis": {
           "automargin": true,
           "gridcolor": "white",
           "linecolor": "white",
           "ticks": "",
           "title": {
            "standoff": 15
           },
           "zerolinecolor": "white",
           "zerolinewidth": 2
          }
         }
        },
        "xaxis": {
         "anchor": "y",
         "domain": [
          0,
          1
         ],
         "title": {
          "text": "threshold"
         }
        },
        "yaxis": {
         "anchor": "x",
         "domain": [
          0,
          1
         ],
         "title": {
          "text": "usage"
         }
        }
       }
      }
     },
     "metadata": {},
     "output_type": "display_data"
    }
   ],
   "source": [
    "plotdf = pd.DataFrame(plotdf)\n",
    "fig = px.line(plotdf, x=\"threshold\", y=\"mean_maj\")\n",
    "fig.show()\n",
    "fig = px.line(plotdf, x=\"threshold\", y=\"usage\")\n",
    "fig.show()"
   ]
  }
 ],
 "metadata": {
  "kernelspec": {
   "display_name": "its_v1",
   "language": "python",
   "name": "python3"
  },
  "language_info": {
   "codemirror_mode": {
    "name": "ipython",
    "version": 3
   },
   "file_extension": ".py",
   "mimetype": "text/x-python",
   "name": "python",
   "nbconvert_exporter": "python",
   "pygments_lexer": "ipython3",
   "version": "3.11.5"
  }
 },
 "nbformat": 4,
 "nbformat_minor": 2
}